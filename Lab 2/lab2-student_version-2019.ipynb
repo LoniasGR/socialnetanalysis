{
 "cells": [
  {
   "cell_type": "markdown",
   "metadata": {},
   "source": [
    "# <h2>2<sup>η</sup> ΕΡΓΑΣΤΗΡΙΑΚΗ ΑΣΚΗΣΗ</h2>\n",
    "<h3>Ανάλυση Κοινωνικής Δομής σε Τεχνητές και Πραγματικές Σύνθετες Τοπολογίες Δικτύων</h3>\n",
    "<p style=text-align:justify>Στην παρούσα άσκηση θα αναλυθούν τεχνητές και πραγματικές τοπολογίες σύνθετων δικτύων με βάση τις τεχνικές που χρησιμοποιήθηκαν στην προηγούμενη άσκηση και κάποιες επιπρόσθετες, με στόχο την εύρεση κοινωνικής δομής. Συγκεκριμένα, θα χρησιμοποιηθούν και θα συγκριθούν διάφοροι αλγόριθμοι εντοπισμού κοινοτήτων σε γράφους δικτύων που προκύπτουν από πραγματικά δεδομένα καθώς και στους συνθετικούς γράφους της πρώτης εργαστηριακής άσκησης.</p>"
   ]
  },
  {
   "cell_type": "code",
   "execution_count": null,
   "metadata": {},
   "outputs": [],
   "source": [
    "%matplotlib inline\n",
    "\n",
    "import matplotlib\n",
    "import networkx as nx\n",
    "import matplotlib.pyplot as plt\n",
    "import numpy as np\n",
    "import scipy as sp\n",
    "from sklearn.cluster import SpectralClustering"
   ]
  },
  {
   "cell_type": "markdown",
   "metadata": {},
   "source": [
    "<h3>Α. Μελέτη πραγματικών τοπολογιών</h3>\n",
    "<p style=text-align:justify>Στο παρόν ερώτημα θα μελετήσετε και θα αποκτήσετε αίσθηση της τοπολογικής δομής πραγματικών δικτύων και της πολυπλοκότητας ανάλυσης που ανακύπτει. Πιο συγκεκριμένα, για τις τοπολογίες που φαίνονται στον <b>πίνακα 1</b>, να βρεθούν και να δειχθούν:</p>\n",
    "<ol>\n",
    "    <li>Ο βαθμός κάθε κόμβου και ο μέσος βαθμός κάθε τοπολογίας.</li>\n",
    "    <li>Ο συντελεστής ομαδοποίησης κάθε κόμβου και ο μέσος συντελεστής ομαδοποίησης κάθε τοπολογίας.</li>\n",
    "    <li>Την ενδιαμεσική εγώκεντρικότητα κάθε κόμβου και τη μέση ενδιαμεσική εγωκεντρικότητα.</li>\n",
    "</ol>\n",
    "<p style=text-align:justify>Να συγκριθούν τα αποτελέσματα σε σχέση με αυτά των συνθετικών τοπολογιών. Να χαρακτηρίσετε τον τύπο κάθε μίας από τις πραγματικές τοπολογίες με βάση τους τύπους δικτύων που εξετάστηκαν στην πρώτη εργαστηριακή άσκηση.</p>\n",
    "<p style=text-align:justify><b>Προσοχή!</b> Θα πρέπει να ελέγξετε αν οι γράφοι είναι κατευθυνόμενοι, δηλ. οι αντίστοιχοι πίνακες γειτνίασης είναι μη συμμετρικοί. Στην περίπτωση αυτή, θα πρέπει να τους μετατρέψετε σε μη-κατευθυνόμενους με τουλάχιστον το ίδιο πλήθος συνδέσεων, <b>προτού</b> εφαρμόσετε τους αλγόριθμους εντοπισμού κοινοτήτων του <b>πίνακα 2</b>. </p>"
   ]
  },
  {
   "cell_type": "markdown",
   "metadata": {},
   "source": [
    "<table style=width:100%>\n",
    "    <caption>Πίνακας <b>1</b>: Πραγματικές τοπολογίες από την ιστοσελίδα <a style=text-decoration:none href=\"http://www-personal.umich.edu/~mejn/netdata/\">http://www-personal.umich.edu/~mejn/netdata/</a> </caption>\n",
    "<tr>\n",
    "    <th style=text-align:left>Τοπολογία</th>\n",
    "    <th style=text-align:left>Αρχείο</th>\n",
    "    <th style=text-align:left>Περιγραφή</th>\n",
    "</tr>\n",
    "<tr>\n",
    "    <td style=text-align:left>American College Football</td>\n",
    "    <td style=text-align:left><a style=text-decoration:none href='http://www-personal.umich.edu/~mejn/netdata/football.zip'>football.gml</a></td>\n",
    "    <td style=text-align:left><p style=text-align:justify> The file <b>football.gml</b> contains the network of American football games between Division IA colleges during regular season Fall 2000, as compiled by M. Girvan and M. Newman. The nodes have values that indicate to which conferences they belong.</p>\n",
    "    </td>\n",
    "</tr>\n",
    "<tr>\n",
    "    <td style=text-align:left>Les Miserables</td>\n",
    "    <td style=text-align:left><a style=text-decoration:none href='http://www-personal.umich.edu/~mejn/netdata/lesmis.zip'>lesmis.gml</a></td>\n",
    "    <td style=text-align:left><p style=text-align:justify> The file <b>lesmis.gml</b> contains the weighted network of coappearances of\n",
    "characters in Victor Hugo's novel \"Les Miserables\".  Nodes represent characters as indicated by the labels and edges connect any pair of characters that appear in the same chapter of the book.  The values on the edges are the number of such coappearances.  The data on coappearances were taken from D. E. Knuth, The Stanford GraphBase: A Platform for Combinatorial Computing, Addison-Wesley, Reading, MA (1993)</p>\n",
    "    </td>\n",
    "</tr>  \n",
    "<tr>\n",
    "    <td style=text-align:left>Dolphin social network</td>\n",
    "    <td style=text-align:left><a style=text-decoration:none href='http://www-personal.umich.edu/~mejn/netdata/dolphins.zip'>dolphins.gml</a></td>\n",
    "    <td style=text-align:left><p style=text-align:justify> The file <b>dolphins.gml</b> contains an undirected social network of frequent associations between 62 dolphins in a community living off Doubtful Sound, New Zealand, as compiled by Lusseau et al. (2003)</p>\n",
    "    </td>\n",
    "</tr> \n",
    "</table>"
   ]
  },
  {
   "cell_type": "markdown",
   "metadata": {},
   "source": [
    "<h4>1. Παραγωγή συνθετικών τοπολογιών</h4> "
   ]
  },
  {
   "cell_type": "code",
   "execution_count": null,
   "metadata": {},
   "outputs": [],
   "source": [
    "#n=1x0\n",
    "d=4\n",
    "M=750\n",
    "R=0.15\n",
    "p=0.3\n",
    "k=4\n",
    "\n",
    "REG = nx.watts_strogatz_graph(n,d,0)\n",
    "RGER = nx.gnm_random_graph(n, M)\n",
    "\n",
    "#we need to ensure connectivity for spectral clustering to work\n",
    "RGG = nx.random_geometric_graph(n, R)\n",
    "while nx.is_connected(RGG)==False:\n",
    "    RGG = nx.random_geometric_graph(n, R)\n",
    "    \n",
    "SF = nx.barabasi_albert_graph(n, d)\n",
    "SW = nx.watts_strogatz_graph(n,k,p)"
   ]
  },
  {
   "cell_type": "markdown",
   "metadata": {},
   "source": [
    "<h4>2. Εισαγωγή και οπτικοποίηση πραγματικών τοπολογιών.</h4>"
   ]
  },
  {
   "cell_type": "code",
   "execution_count": null,
   "metadata": {},
   "outputs": [],
   "source": [
    "#import football.gml from local file using nx.read_gml"
   ]
  },
  {
   "cell_type": "code",
   "execution_count": null,
   "metadata": {},
   "outputs": [],
   "source": [
    "#check if football is directed"
   ]
  },
  {
   "cell_type": "code",
   "execution_count": null,
   "metadata": {},
   "outputs": [],
   "source": [
    "#visualize football"
   ]
  },
  {
   "cell_type": "code",
   "execution_count": null,
   "metadata": {},
   "outputs": [],
   "source": [
    "#import lesmis.gml"
   ]
  },
  {
   "cell_type": "code",
   "execution_count": null,
   "metadata": {},
   "outputs": [],
   "source": [
    "#check if lesmis is directed"
   ]
  },
  {
   "cell_type": "code",
   "execution_count": null,
   "metadata": {},
   "outputs": [],
   "source": [
    "#visualize lesmis"
   ]
  },
  {
   "cell_type": "code",
   "execution_count": null,
   "metadata": {},
   "outputs": [],
   "source": [
    "#import dolphins.gml"
   ]
  },
  {
   "cell_type": "code",
   "execution_count": null,
   "metadata": {},
   "outputs": [],
   "source": [
    "#check if dolphins is directed"
   ]
  },
  {
   "cell_type": "code",
   "execution_count": null,
   "metadata": {},
   "outputs": [],
   "source": [
    "#visualize dolphins"
   ]
  },
  {
   "cell_type": "code",
   "execution_count": null,
   "metadata": {},
   "outputs": [],
   "source": [
    "#convert nodes' labels from strings to integers in real topologies\n",
    "def conv2int(G,start_value):\n",
    "    nG = nx.convert_node_labels_to_integers(G,first_label=start_value)\n",
    "    G_mapping=dict(enumerate(G.nodes,0))\n",
    "    return nG,G_mapping\n",
    "\n",
    "nfootball,football_map=conv2int(football,0)\n",
    "nlesmis, lesmis_map=conv2int(lesmis,0)\n",
    "ndolphins, dolphins_map=conv2int(dolphins,0)\n",
    "\n",
    "#G=nx.relabel_nodes(nG,G_mapping)"
   ]
  },
  {
   "cell_type": "markdown",
   "metadata": {},
   "source": [
    "<h4>3. Μελέτη βαθμού κόμβου για πραγματικές και συνθετικές τοπολογίες.</h4>"
   ]
  },
  {
   "cell_type": "code",
   "execution_count": null,
   "metadata": {},
   "outputs": [],
   "source": [
    "#def find_degree(G):\n",
    "\n",
    "#REG_degree = \n",
    "#RGER_degree = \n",
    "#RGG_degree = \n",
    "#SF_degree = \n",
    "#SW_degree = \n",
    "#football_degree=\n",
    "#lesmis_degree=\n",
    "#dolphins_degree=\n",
    "\n",
    "#def degree_hist(G_degree):\n",
    "\n",
    "#mean_degree_REG=\n",
    "#mean_degree_RGER=\n",
    "#mean_degree_RGG=\n",
    "#mean_degree_SW=\n",
    "#mean_degree_SF=\n",
    "#mean_degree_football=\n",
    "#mean_degree_lesmis=\n",
    "#mean_degree_dolphins="
   ]
  },
  {
   "cell_type": "markdown",
   "metadata": {},
   "source": [
    "<h4>4. Μελέτη συντελεστή ομαδοποίησης για πραγματικές και συνθετικές τοπολογίες</h4>"
   ]
  },
  {
   "cell_type": "code",
   "execution_count": null,
   "metadata": {},
   "outputs": [],
   "source": [
    "#def clust_coef(G):\n",
    "\n",
    "#REG_cc = \n",
    "#RGER_cc = \n",
    "#RGG_cc = \n",
    "#SF_cc = \n",
    "#SW_cc = \n",
    "#football_cc=\n",
    "#lesmis_cc=\n",
    "#dolphins_cc=\n",
    "\n",
    "#def cc_hist(G_cc):\n",
    "\n",
    "#mean_cc_REG=\n",
    "#mean_cc_RGER=\n",
    "#mean_cc_RGG=\n",
    "#mean_cc_SW=\n",
    "#mean_cc_SF=\n",
    "#mean_cc_football=\n",
    "#mean_cc_lesmis=\n",
    "#mean_cc_dolphins="
   ]
  },
  {
   "cell_type": "markdown",
   "metadata": {},
   "source": [
    "<h4>5. Μελέτη ενδιαμεσικής εγω-κεντρικότητας για πραγματικές και συνθετικές τοπολογίες </h4>"
   ]
  },
  {
   "cell_type": "code",
   "execution_count": null,
   "metadata": {},
   "outputs": [],
   "source": [
    "#def ego_centrality(topology):\n",
    "\n",
    "#REG_ebtw = \n",
    "#RGER_ebtw = \n",
    "#RGG_ebtw = \n",
    "#SF_ebtw = \n",
    "#SW_ebtw = \n",
    "#nfootball_ebtw = \n",
    "#nlesmis_ebtw = \n",
    "#ndolphins_ebtw=\n",
    "\n",
    "#def egobtw_hist(G_ebtw): \n",
    "\n",
    "#mean_ebtw_REG=\n",
    "#mean_ebtw_RGER=\n",
    "#mean_ebtw_RGG=\n",
    "#mean_ebtw_SW=\n",
    "#mean_ebtw_SF=\n",
    "#mean_ebtw_football=\n",
    "#mean_ebtw_lesmis=\n",
    "#mean_ebtw_dolphins="
   ]
  },
  {
   "cell_type": "markdown",
   "metadata": {},
   "source": [
    "<h3>B. Εξοικείωση με τα εργαλεία εντοπισμού κοινοτήτων</h3>\n",
    "<p>Χρησιμοποιώντας τις συναρτήσεις του <b>πίνακα 2</b> για κάθε <u>πραγματικό</u> (<b>πίνακας 1</b>) και <u>συνθετικό</u> (από την <b>άσκηση 1</b>) δίκτυο:</p>\n",
    "<ol>\n",
    "    <li>να οπτικοποιηθούν οι κοινότητες που προκύπτουν από την κάθε μέθοδο</li>\n",
    "    <li>να γίνουν οι απαραίτητοι σχολιασμοί (π.χ: σύγκριση του αριθμού των κοινοτήτων που υπολογίζει ο κάθε αλγόριθμος).</li>\n",
    "</ol>\n",
    "<p>Για την οπτικοποίηση, να επισημανθεί διαφορετικά κάθε κοινότητα, π.χ. με διαφορετικό χρώμα.</p>\n",
    "<p style=text-align:justify>Στην περίπτωση των συνθετικών δικτύων, να πραγματοποιηθούν συγκρίσεις και μεταξύ των διαφορετικών τύπων τοπολογιών. Για παράδειγμα, στην περίπτωση του τυχαίου γεωμετρικού γράφου, υπάρχει διαισθητικά μία κοινότητα γύρω από κάθε κόμβο που δημιουργείται με βάση τις αποστάσεις του τελευταίου από τους υπόλοιπους κόμβους του δικτύου. Στην περίπτωση των scale-free δικτύων, είναι πιθανό να σχηματίζονται κοινότητες γύρω από τους κόμβους με μεγάλο βαθμό.</p>\n",
    "<p>Για κάθε αλγόριθμο εντοπισμού κοινοτήτων και για κάθε τοπολογία υπολογίστε το modularity χρησιμοποιώντας τη συνάρτηση networkx.algorithms.community.quality.modularity.</p>"
   ]
  },
  {
   "cell_type": "markdown",
   "metadata": {},
   "source": [
    "<table style=float:left;width:70%>\n",
    "    <caption>Πίνακας <b>2</b>: Συναρτήσεις εντοπισμού κοινοτήτων</caption>\n",
    "    <tr>\n",
    "        <th style=text-align:left> Μέθοδος εντοπισμού κοινοτήτων</th>\n",
    "        <th style=text-align:left>Συνάρτηση</th>\n",
    "    </tr>\n",
    "    <tr>\n",
    "        <td style=text-align:left>Spectral Clustering</td>\n",
    "        <td style=text-align:left><a style=text-decoration:none href='http://scikit-learn.org/stable/modules/generated/sklearn.cluster.SpectralClustering.html'>SpectralClustering</a></td>\n",
    "    </tr>\n",
    "       <tr>\n",
    "        <td style=text-align:left>Newman-Girvan</td>\n",
    "        <td style=text-align:left><a style=text-decoration:none                               href='https://networkx.github.io/documentation/latest/reference/algorithms/generated/networkx.algorithms.community.centrality.girvan_newman.html'>girvan_newman</a></td>\n",
    "    </tr>\n",
    "    <tr>\n",
    "        <td style=text-align:left>Modularity Maximization</td>\n",
    "        <td style=text-align:left><a style=text-decoration:none                               href='https://networkx.github.io/documentation/latest/reference/algorithms/generated/networkx.algorithms.community.modularity_max.greedy_modularity_communities.html'>greedy_modularity_communities</a></td>\n",
    "    </tr>\n",
    "</table>\n",
    "    "
   ]
  },
  {
   "cell_type": "markdown",
   "metadata": {},
   "source": [
    "<p style=text-align:justify>Προτού εφαρμόσετε τις συναρτήσεις εντοπισμού κοινοτήτων μελετήστε προσεκτικά την <b>είσοδο που απαιτούν καθώς και τη μορφή εξόδου που παράγουν.</b></p>"
   ]
  },
  {
   "cell_type": "markdown",
   "metadata": {},
   "source": [
    "<h4>1. Ορισμός χρωμάτων για την οπτικοποίηση των κοινοτήτων.</h4>"
   ]
  },
  {
   "cell_type": "code",
   "execution_count": null,
   "metadata": {},
   "outputs": [],
   "source": [
    "#insert colors for nodes\n",
    "from matplotlib import colors as mcolors\n",
    "colors = list(dict(mcolors.BASE_COLORS, **mcolors.CSS4_COLORS).keys())"
   ]
  },
  {
   "cell_type": "markdown",
   "metadata": {},
   "source": [
    "<h4>2. Εντοπισμός κοινοτήτων σε συνθετικά και πραγματικά δίκτυα με τη μέθοδο Newman-Girvan.</h4>"
   ]
  },
  {
   "cell_type": "code",
   "execution_count": null,
   "metadata": {},
   "outputs": [],
   "source": [
    "#girvan_newman:partitions of at most k=50 communities, select the one with the highest value of modularity.\n",
    "#use nx.algorithms.community.centrality.girvan_newman for the communities\n",
    "#nx.algorithms.community.quality.modularity to measure modularity\n",
    "\n",
    "#def comd_GN(G,k):\n"
   ]
  },
  {
   "cell_type": "markdown",
   "metadata": {},
   "source": [
    "<h4>3. Εντοπισμός κοινοτήτων σε συνθετικά και πραγματικά δίκτυα με τη μέθοδο Spectral Clustering.</h4>"
   ]
  },
  {
   "cell_type": "code",
   "execution_count": null,
   "metadata": {},
   "outputs": [],
   "source": [
    "#Spectral Clustering:all partitions of k={1,..50} communities\n",
    "#use SpectralClustering for the communities\n",
    "#nx.algorithms.community.quality.modularity to measure modularity\n",
    "\n",
    "#def comd_SP(G,k):\n"
   ]
  },
  {
   "cell_type": "markdown",
   "metadata": {},
   "source": [
    "<h4>4. Εντοπισμός κοινοτήτων σε συνθετικά και πραγματικά δίκτυα με τη μέθοδο Modularity Maximization.</h4>"
   ]
  },
  {
   "cell_type": "code",
   "execution_count": null,
   "metadata": {},
   "outputs": [],
   "source": [
    "#Modularity Maximization\n",
    "#use nx.algorithms.community.modularity_max.greedy_modularity_communities for the communities\n",
    "#nx.algorithms.community.quality.modularity to measure modularity\n",
    "\n",
    "#def comd_MM(G):\n",
    " "
   ]
  },
  {
   "cell_type": "markdown",
   "metadata": {},
   "source": [
    "<h4>5. Οπτικοποίηση κοινοτήτων σε συνθετικά και πραγματικά δίκτυα.</h4>"
   ]
  },
  {
   "cell_type": "code",
   "execution_count": null,
   "metadata": {},
   "outputs": [],
   "source": [
    "#def visual_com:\n",
    "#use from networkx: draw_networkx_nodes (and the attribute nodelist), and draw_networkx_edges"
   ]
  },
  {
   "cell_type": "markdown",
   "metadata": {},
   "source": [
    "# <p>a. Οπτικοποίηση κοινοτήτων Les Miserables.</p>"
   ]
  },
  {
   "cell_type": "code",
   "execution_count": null,
   "metadata": {},
   "outputs": [],
   "source": []
  },
  {
   "cell_type": "markdown",
   "metadata": {},
   "source": [
    "<p>b. Οπτικοποίηση κοινοτήτων American College Football.</p>"
   ]
  },
  {
   "cell_type": "code",
   "execution_count": null,
   "metadata": {},
   "outputs": [],
   "source": []
  },
  {
   "cell_type": "markdown",
   "metadata": {},
   "source": [
    "<p>c. Οπτικοποίηση κοινοτήτων Dolphins.</p>"
   ]
  },
  {
   "cell_type": "code",
   "execution_count": null,
   "metadata": {},
   "outputs": [],
   "source": []
  },
  {
   "cell_type": "markdown",
   "metadata": {},
   "source": [
    "<p>d. Οπτικοποίηση κοινοτήτων REG.</p>"
   ]
  },
  {
   "cell_type": "code",
   "execution_count": null,
   "metadata": {},
   "outputs": [],
   "source": []
  },
  {
   "cell_type": "markdown",
   "metadata": {},
   "source": [
    "<p>e. Οπτικοποίηση κοινοτήτων RGER.</p>"
   ]
  },
  {
   "cell_type": "code",
   "execution_count": null,
   "metadata": {},
   "outputs": [],
   "source": []
  },
  {
   "cell_type": "markdown",
   "metadata": {},
   "source": [
    "<p>f. Οπτικοποίηση κοινοτήτων RGG.</p>"
   ]
  },
  {
   "cell_type": "code",
   "execution_count": null,
   "metadata": {},
   "outputs": [],
   "source": []
  },
  {
   "cell_type": "markdown",
   "metadata": {},
   "source": [
    "<p>g. Οπτικοποίηση κοινοτήτων SW.</p>"
   ]
  },
  {
   "cell_type": "code",
   "execution_count": null,
   "metadata": {},
   "outputs": [],
   "source": []
  },
  {
   "cell_type": "markdown",
   "metadata": {},
   "source": [
    "<p>h. Οπτικοποίηση κοινοτήτων SF.</p>"
   ]
  },
  {
   "cell_type": "code",
   "execution_count": null,
   "metadata": {},
   "outputs": [],
   "source": []
  }
 ],
 "metadata": {
  "kernelspec": {
   "display_name": "Python 3",
   "language": "python",
   "name": "python3"
  },
  "language_info": {
   "codemirror_mode": {
    "name": "ipython",
    "version": 3
   },
   "file_extension": ".py",
   "mimetype": "text/x-python",
   "name": "python",
   "nbconvert_exporter": "python",
   "pygments_lexer": "ipython3",
   "version": "3.7.4"
  }
 },
 "nbformat": 4,
 "nbformat_minor": 4
}
