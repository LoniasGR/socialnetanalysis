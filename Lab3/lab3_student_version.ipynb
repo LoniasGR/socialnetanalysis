{
 "cells": [
  {
   "cell_type": "markdown",
   "metadata": {},
   "source": [
    "<h2>3<sup>η</sup> ΕΡΓΑΣΤΗΡΙΑΚΗ ΑΣΚΗΣΗ</h2>\n",
    "<h3>Γενετικοί Αλγόριθμοι</h3>\n",
    "<p style=text-align:justify>Στην παρούσα άσκηση θα εξοικειωθείτε με την χρήση των γενετικών αλγορίθμων και την επιλογή των παραμέτρων τους. Επιπλέον, θα αναπτύξετε ένα γενετικό αλγόριθμο για τον εντοπισμό κοινοτήτων σε πραγματικά δίκτυα και θα συγκρίνετε το αποτέλεσμά του με τους αλγόριθμους εντοπισμού κοινοτήτων που εφαρμόστηκαν στην 2<sup>η</sup> εργαστηριακή άσκηση.</p>"
   ]
  },
  {
   "cell_type": "code",
   "execution_count": 48,
   "metadata": {},
   "outputs": [],
   "source": [
    "%matplotlib inline\n",
    "\n",
    "import matplotlib\n",
    "import networkx as nx\n",
    "import matplotlib.pyplot as plt\n",
    "import numpy as np\n",
    "import scipy as sp\n",
    "import random"
   ]
  },
  {
   "cell_type": "markdown",
   "metadata": {},
   "source": [
    "### Άσκηση 1: Εξοικείωση με Γενετικούς Αλγόριθμους\n",
    "\n",
    "#### Πρόβλημα ONEMAX\n",
    "\n",
    "<p style=text-align:justify>Βρείτε την δυαδική ακολουθία $(x_1, x_2, ..., x_n)$ που μεγιστοποιεί το άθροισμα $x_1 + x_2 + ... + x_n, n=20$. Αναλύστε την επίδραση του μεγέθους του πληθυσμού, της πιθανότητας διασταύρωσης (crossover) και της πιθανότητας μετάλλαξης (mutation) στην ποιότητα της λύσης (πόσο κοντά είναι στην προφανή βέλτιστη λύση) που προκύπτει από το γενετικό αλγόριθμο. Συγκεκριμένα, μεταβάλλετε τον πληθυσμό από $10$ ως $100$ χρωμοσώματα με βήμα $10$,την πιθανότητα διασταύρωσης από $0.3$ ως $0.9$ με βήμα $0.1$ και την πιθανότητα μετάλλαξης από $0.01$ ως $0.2$ με βήμα $0.01$. Εξετάστε την ποιότητα της λύσης του γενετικού αλγορίθμου καθώς αλλάζετε τις παραμέτρους. Ελιτισμό μπορείτε να χρησιμοποιήσετε αν το επιθυμείτε.</p>"
   ]
  },
  {
   "cell_type": "code",
   "execution_count": 2,
   "metadata": {},
   "outputs": [],
   "source": [
    "def create_population(size):\n",
    "    # Create the initial population\n",
    "    genes_per_chromosome = 20\n",
    "    pop_size = (size, genes_per_chromosome) # The population will have *size* chromosomes, with *genes_per_chromosome* genes.\n",
    "    population = np.random.randint(0, 2, pop_size)\n",
    "    return population\n",
    "\n",
    "def find_fitness(chromosomes):\n",
    "    fitness = np.empty([chromosomes.shape[0], 1])\n",
    "    for i in range(chromosomes.shape[0]):\n",
    "        fitness[i] = np.sum(chromosomes[i])\n",
    "    return fitness\n",
    "\n",
    "def proportional_selection(fitness):\n",
    "    # Select chromosomes to pass to next population proportionally to their fitness\n",
    "    total = np.sum(fitness)\n",
    "    normalized = np.array([f/total for f in fitness])\n",
    "    normalized = np.sort(normalized)\n",
    "    cum_sum = np.array(normalized).cumsum()\n",
    "    rand = np.random.random_sample()\n",
    "    cum_sum = np.append(cum_sum, rand)\n",
    "    veriable = np.sort(cum_sum)\n",
    "    return np.where(veriable == rand)\n",
    "\n",
    "def crossover(parent_0, parent_1):\n",
    "    # Apply crossover to population\n",
    "    pos = np.random.randint(0, len(parent_0))\n",
    "    offspring_0 = parent_0[:pos]\n",
    "    offspring_0 = np.append(offspring_0, parent_1[pos:])\n",
    "    offspring_1 = parent_1[:pos]\n",
    "    offspring_1 = np.append(offspring_1, parent_0[pos:])\n",
    "    return (offspring_0, offspring_1)\n",
    "\n",
    "def mutation(mutant, mut_prob):\n",
    "    # Apply mutation to population\n",
    "    for pos in range(len(mutant)):\n",
    "        rand_mut = np.random.random_sample()\n",
    "        if (rand_mut < mut_prob):\n",
    "            mutant[pos] = 1 if mutant[pos] == 0 else 0\n",
    "    return mutant\n",
    "\n",
    "def genetic_algorithm(population, cross_prob, mut_prob, generations=10):\n",
    "    # Main genetic algorithm\n",
    "    pop = create_population(population)\n",
    "    for g in range(generations):\n",
    "        fitness = find_fitness(pop)\n",
    "        next_generation = np.empty_like(pop)\n",
    "        for i in range(0, population, 2):\n",
    "            parent_1 = pop[proportional_selection(fitness)]\n",
    "            parent_2 = pop[proportional_selection(fitness)]\n",
    "            rand_cross = np.random.random_sample()\n",
    "            \n",
    "            if (rand_cross < cross_prob):\n",
    "                off_1, off_2 = crossover(parent_1, parent_2)\n",
    "            \n",
    "                next_generation[i] = mutation(off_1, mut_prob)\n",
    "                next_generation[i+1] = mutation(off_2, mut_prob)\n",
    "            \n",
    "            else:\n",
    "                next_generation[i] = parent_1\n",
    "                next_generation[i+1] = parent_2\n",
    "        \n",
    "        pop = next_generation\n",
    "    fitn = find_fitness(pop)\n",
    "    return fitn.max()"
   ]
  },
  {
   "cell_type": "code",
   "execution_count": 4,
   "metadata": {},
   "outputs": [
    {
     "name": "stdout",
     "output_type": "stream",
     "text": [
      "Population: 10, crossover probability: 0.300000, mutation probability: 0.010000, Result: 15\n",
      "Population: 10, crossover probability: 0.300000, mutation probability: 0.170000, Result: 16\n",
      "Population: 10, crossover probability: 0.400000, mutation probability: 0.070000, Result: 18\n",
      "Population: 10, crossover probability: 0.800000, mutation probability: 0.100000, Result: 20\n"
     ]
    }
   ],
   "source": [
    "best = 0\n",
    "for pop in range(10, 110, 10):\n",
    "    for cross_prob in np.arange(0.3, 1, 0.1):\n",
    "        for mut_prob in np.arange(0.01, 0.21, 0.01):\n",
    "            res = genetic_algorithm(pop, cross_prob, mut_prob)\n",
    "            if res > best:\n",
    "                best = res\n",
    "                print(\"Population: %d, crossover probability: %f, mutation probability: %f, Result: %d\" % (pop, cross_prob, mut_prob, res)) "
   ]
  },
  {
   "cell_type": "markdown",
   "metadata": {},
   "source": [
    "<p>Όπως βλέπουμε, καθώς το μέγιστο που προσπαθούμε να βρούμε είναι αρκετά απλό, όπως και οι τρόποι που κάνουμε mutate και crossover, την καλύτερη λύση την έχουμε με μεγάλο πληθυσμό και πιθανότητες μετάλλαξης και μεσαία πιθανότητα crossover. Αυτό συμβαίνει γιατί ο πληθισμός φτάνει από μόνος του αρκετά γρήγορα σε σύγκλιση, με αποτέλεσμα οι γενιές να έχουν μικρές διαφορές μεταξύ τους. Αυτός είναι και ο ρόλος της μετάλλαξης, να εξασφαλίζει ότι δεν θα συγκλίνουμε σε τοπικά μέγιστα.</p>"
   ]
  },
  {
   "cell_type": "markdown",
   "metadata": {},
   "source": [
    "### Άσκηση 2: Εντοπισμός Κοινοτήτων σε Γράφους Κοινωνικών Δικτύων με Χρήση Γενετικών Αλγορίθμων\n",
    "\n",
    "<p style=text-align:justify>Στην παρούσα άσκηση θα αναπτύξετε κώδικα για εντοπισμό κοινοτήτων σε γράφους δικτύων με χρήση γενετικών αλγορίθμων. Ακολούθως θα εφαρμόσετε το γενετικό αλγόριθμο για τον εντοπισμό κοινοτήτων σε πραγματικά δίκτυα και θα συγκρίνετε το αποτέλεσμά του με εκείνο των αλγορίθμων της δεύτερης εργαστηριακής άσκησης χρησιμοποιώντας τη μετρική modularity.</p>\n",
    "\n",
    "##### Αναπαράσταση υποψήφιων λύσεων (χρωμοσωμάτων)\n",
    "<p style=text-align:justify>Κάθε χρωμόσωμα $b_{i,t}$ του πληθυσμού τη χρονική στιγμή $t$ είναι ένα διάνυσμα με μήκος ίσο με το πλήθος των κόμβων του δικτύου, $n$. Αν $b_{i,t}(j)=d$ τότε οι κόμβοι $j,d$ ανήκουν στην ίδια κοινότητα. Επιπλέον για να ισχύει $b_{i,t}(j)=d$ , οι κόμβοι $j,d$ θα πρέπει να συνδέονται στην αρχική τοπολογία. Τότε, βρίσκοντας τις συνδεδεμένες συνιστώσες του χρωμοσώματος $b_{i,t}$ , προκύπτουν οι κοινότητες του δικτύου.</p>\n",
    "\n",
    "##### Αρχικοποίηση\n",
    "<p style=text-align:justify>Η αρχική γενιά του πληθυσμού θα πρέπει να αποτελείται από χρωμοσώματα τα οποία θα είναι τυχαία επιλεγμένα και διορθωμένα ώστε ο αριθμός που υπάρχει σε κάθε θέση να είναι γείτονας του αντίστοιχου κόμβου. (Αν δεν ισχύει θα πρέπει να αντικατασταθεί από ένα γείτονα του αντίστοιχου κόμβου.) Θεωρείστε πληθυσμό $300$ χρωμοσωμάτων.</p>\n",
    "\n",
    "##### Συνάρτηση Fitness\n",
    "<p style=text-align:justify>Η συνάρτηση fitness υπολογίζεται όπως στις διαφάνειες 28 και 29 της αντίστοιχης διάλεξης του μαθήματος. Προσοχή για κάθε συνιστώσα (component) του γράφου θα πρέπει να βρίσκετε τον αντίστοιχο υπογράφο.</p>\n",
    "\n",
    "##### Επιλογή (Selection)\n",
    "<p style=text-align:justify>Η επιλογή χρωμοσωμάτων από μία γενιά του πληθυσμού για την κατασκευή της επόμενης γενιάς γίνεται με τη μέθοδο της ρουλέτας (διαφάνειες μαθήματος και αλγόριθμος). Τροποποιήστε τον παραπάνω αλγόριθμο ώστε να εφαρμόσετε και ελιτισμό, δηλαδή τα $x$ πρώτα χρωμοσώματα της νέας γενιάς θα είναι εκείνα τα χρωμοσώματα της προηγούμενης γενιάς που έχουν επιτύχει τη μέγιστη τιμή της συνάρτησης fitness.</p>\n",
    "\n",
    "##### Διασταύρωση (Crossover)\n",
    "<p style=text-align:justify>Η διασταύρωση πραγματοποιείται όπως περιγράφεται στον αλγόριθμο, μεταξύ διαδοχικών χρωμοσωμάτων της εκάστοτε γενιάς. Η πιθανότητα διασταύρωσης ανά ζεύγος είναι ίση με $p_C$.</p>\n",
    "\n",
    "##### Μετάλλαξη (Mutation)\n",
    "<p style=text-align:justify>Η μετάλλαξη πραγματοποιείται σε κάθε θέση του χρωμοσώματος με πιθανότητα $p_M$, όπως στον αλγόριθμο. Θα πρέπει ωστόσο ο αλγόριθμος να τροποποιηθεί ώστε να δίνει ένα τυχαίο γείτονα του κόμβου που αντιστοιχεί σε κάθε θέση ως αποτέλεσμα της μετάλλαξης.</p>\n",
    "\n",
    "##### Κριτήριο Τερματισμού (Stopping Criterion)\n",
    "<p style=text-align:justify>Ως κριτήριο τερματισμού ορίστε ένα μέγιστο πλήθος επαναλήψεων εφαρμογής του αλγορίθμου (γενεών πληθυσμού), ίσο με $30$, ή ότι η βέλτιστη τιμή της συνάρτησης fitness δεν έχει μεταβληθεί για τις τελευταίες $5$ επαναλήψεις. Εφαρμόστε τον παραπάνω γενετικό αλγόριθμο στις πραγματικές τοπολογίες της δεύτερης εργαστηριακής άσκησης που δίνονται και στον Πίνακα 1. Οι παράμετροι που θα πρέπει να εξεταστούν δίνονται στον παρακάτω πίνακα. Προσοχή θα πρέπει να εξεταστούν όλοι οι συνδυασμοί.</p>\n",
    "\n",
    "<table style=width:100%>\n",
    "<tr>\n",
    "    <th style=text-align:left>Παράμετρος</th>\n",
    "    <th style=text-align:left>Τιμές</th>\n",
    "</tr>\n",
    "<tr>\n",
    "    <td style=text-align:left>Διαστάυρωση $p_C$</td>\n",
    "    <td style=text-align:left>$0.7:0.9$ με βήμα $0.1$</td>\n",
    "</tr>\n",
    "<tr>\n",
    "    <td style=text-align:left>Μετάλλαξη $p_M$</td>\n",
    "    <td style=text-align:left>$\\{0.1,0.2\\}$</td>\n",
    "</tr>\n",
    "<tr>\n",
    "    <td style=text-align:left>Ελιτισμός $x$</td>\n",
    "    <td style=text-align:left>$1:3$ με βήμα $1$</td>\n",
    "</tr>\n",
    "</table>\n",
    "\n",
    "<p style=text-align:justify>Συγκρίνετε το αποτέλεσμα του γενετικού αλγορίθμου (το καλύτερο για τις διάφορες επιλογές παραμέτρων) με εκείνο των αλγορίθμων εντοπισμού κοινοτήτων της εργαστηριακής άσκησης 2 (δίνονται και στον Πίνακα 2), υπολογίζοντας το modularity. Θα πρέπει να έχετε πρωτίστως μετατρέψει το αποτέλεσμα του γενετικού αλγορίθμου σε κατάλληλη μορφη πάνω στο χρωμόσωμα που επιτυγχάνει τη βέλτιστη τιμή της συνάρτησης fitness.</p>\n"
   ]
  },
  {
   "cell_type": "code",
   "execution_count": 49,
   "metadata": {},
   "outputs": [],
   "source": [
    "### ATTENTION: don't change because the variables are used in the given code\n",
    "### the use of the converted graph is optional\n",
    "\n",
    "# Import real topologies \n",
    "\n",
    "football_gml = nx.read_gml(\"./football.gml\")\n",
    "lesmis_gml = nx.read_gml(\"./lesmis.gml\")\n",
    "dolphins_gml = nx.read_gml(\"./dolphins.gml\")\n",
    "\n",
    "def conv2int(G,start_value):\n",
    "    nG = nx.convert_node_labels_to_integers(G, first_label=start_value)\n",
    "    G_mapping = dict(enumerate(G.nodes,0))\n",
    "    return nG,G_mapping\n",
    "\n",
    "football, football_map = conv2int(football_gml,0)\n",
    "lesmis, lesmis_map = conv2int(lesmis_gml,0)\n",
    "dolphins, dolphins_map = conv2int(dolphins_gml,0)"
   ]
  },
  {
   "cell_type": "code",
   "execution_count": 88,
   "metadata": {},
   "outputs": [],
   "source": [
    "def create_population(G, population_size):\n",
    "    # Create the initial population\n",
    "    \n",
    "    population = [] # This is where new nodes will be added.\n",
    "    for c in range(population_size):\n",
    "        chromosome = [] # Temp list for chromosomes\n",
    "        for n in range(G.number_of_nodes()):\n",
    "            options = list(G[n]) # The value in each position needs to be neighbour of the node.\n",
    "            chromosome.append(random.choice(options))\n",
    "        population.append(chromosome)\n",
    "    return np.array(population)\n",
    "\n",
    "def find_fitness(chromosome, adj_mtrx, r=2):\n",
    "    # Calculate fitness of chromosomes\n",
    "    # we want to maximize $$CS = \\sum_i^k{Q(S_i)}$$ \n",
    "    # where $$Q(S_i) = M(S_i) \\times u_s$$\n",
    "    # and M(S) = \\frac{\\sum_{i \\in I}{(a_{iJ})^r}}{|I|}\n",
    "    \n",
    "    new_G = nx.Graph()\n",
    "    \n",
    "    for i in range(len(chromosome)):\n",
    "        new_G.add_edge(i, chromosome[i])\n",
    "        \n",
    "    k = nx.number_connected_components(new_G) # number of connected components\n",
    "    partitioning = nx.connected_components(new_G) # connected components\n",
    "    \n",
    "    partitioning = [list(s) for s in partitioning]\n",
    "    \n",
    "    \n",
    "    # initialize CS to 0\n",
    "    CS = 0\n",
    "    \n",
    "    # for each connected component\n",
    "    for S in partitioning:\n",
    "        volume = 0 #calculate its volume\n",
    "        for i in S:\n",
    "            for j in S:\n",
    "                volume = volume + adj_mtrx[i,j] \n",
    "\n",
    "        #I = adj_mtrx[S]\n",
    "        J = adj_mtrx[:,S]\n",
    "        len_J = len_I = len(S) # number of rows/columns\n",
    "         \n",
    "        a_i_J = np.array([np.sum(J[i])/len_J for i in range(len(J)) if i in S])\n",
    "\n",
    "        # We will calculate M below\n",
    "        M_S = np.sum(np.power(a_i_J, r))/len_I\n",
    "        \n",
    "        # Q(S_i) = M(S_i) \\times u_s\n",
    "        Q_S = M_S * volume\n",
    "        CS = CS + Q_S\n",
    "    return CS\n",
    "        \n",
    "\n",
    "def proportional_selection(fitness):\n",
    "    # Select chromosomes to pass to next population proportionally to their fitness\n",
    "    # fitness and population is expected to be already sorted\n",
    "    # instead of calculating the sum every time, we do it once for the whole array\n",
    "    \n",
    "    # find the total \n",
    "    total = np.sum(fitness)\n",
    "    \n",
    "    # normalize the values of fitness\n",
    "    normalized = np.array([f/total for f in fitness])\n",
    "    \n",
    "    # calculate the cummulative sum for each fitness\n",
    "    cum_sum = np.array(normalized).cumsum()\n",
    "    \n",
    "    # the random number\n",
    "    x = np.random.uniform(0, 1)\n",
    "    \n",
    "    i = 0\n",
    "    \n",
    "    while (i < len(fitness) and x > cum_sum[i]):\n",
    "        i = i + 1\n",
    "    return i\n",
    "\n",
    "\n",
    "def crossover(p1, p2):\n",
    "    # Apply crossover to population\n",
    "    offspring = []\n",
    "    for i in range(len(p1)):\n",
    "        mask = random.randint(0,1)\n",
    "        if mask == 0:\n",
    "            offspring.append(p2[i])\n",
    "        else:\n",
    "            offspring.append(p1[i])\n",
    "    return offspring\n",
    "    \n",
    "\n",
    "def mutation(chromosome, G, pm):\n",
    "    # Apply mutation to population\n",
    "    mutant = chromosome\n",
    "    \n",
    "    for location in range(len(mutant)):\n",
    "        # Randomly see if this position changes\n",
    "        rand_mutation = np.random.random_sample()\n",
    "        if (rand_mutation < pm):\n",
    "            options = list(G[location])\n",
    "            mutant[location] = random.choice(options)\n",
    "    \n",
    "    return mutant\n",
    "\n",
    "def genetic_algorithm(G, x, pc, pm, population_size=300, max_generations = 30):\n",
    "    # Main genetic algorithm\n",
    "    # G: Graph we are testing\n",
    "    # x: Elitism value\n",
    "    # pc: Crossover probability\n",
    "    # pm: Mutation probability\n",
    "    \n",
    "    # Create the population\n",
    "    population = create_population(G, population_size)\n",
    "    adj_mtrx = nx.convert_matrix.to_numpy_matrix(G)\n",
    "\n",
    "    \n",
    "    current_generation = 0\n",
    "    best_fitness = 0\n",
    "    counter = 0\n",
    "    next_generation = np.empty_like(population)\n",
    "\n",
    "    \n",
    "    while (current_generation < max_generations):\n",
    "        \n",
    "        current_generation = current_generation + 1\n",
    "        best_generation_fitness = 0\n",
    "\n",
    "        # find the fitness of each chromosome\n",
    "        fitness = []\n",
    "        for i in range(population_size):\n",
    "            fit = find_fitness(population[i], adj_mtrx)\n",
    "            fitness.append(fit)\n",
    "        fitness = np.array(fitness)\n",
    "        \n",
    "        # Sort based on fitness\n",
    "        sorted_indexes = np.argsort(fitness)\n",
    "        best_generation_fitness = fitness[sorted_indexes[-1]]\n",
    "        population_sorted = population[sorted_indexes]\n",
    "\n",
    "        # Compare current best fitness with max best fitness\n",
    "        if best_generation_fitness > best_fitness:\n",
    "            counter = 0\n",
    "            best_fitness = best_generation_fitness\n",
    "            best_chromosome = population_sorted[-1]\n",
    "        else:\n",
    "            counter = counter + 1\n",
    "        \n",
    "        # If we don't see improvement in 5 generation end the loop\n",
    "        if counter > 5:\n",
    "            break\n",
    "\n",
    "        # Elitism \n",
    "        next_generation[:x] = population_sorted[-x:]\n",
    "\n",
    "        # Select new generation\n",
    "        for s in range(x, population_size):\n",
    "            # randomly select two parents\n",
    "            parent_1 = population[proportional_selection(fitness)]\n",
    "            parent_2 = population[proportional_selection(fitness)]\n",
    "\n",
    "            # Select a random number in range [0,1]\n",
    "            rand_crossover = np.random.random_sample()\n",
    "\n",
    "            # Check if number smaller than crossover probability, do crossover\n",
    "            if (rand_crossover < pc): \n",
    "                offspring = crossover(parent_1, parent_2)\n",
    "                offspring = mutation(offspring, G, pm)\n",
    "                next_generation[s] = offspring\n",
    "\n",
    "            else:\n",
    "                # pick randomly one of the two parents to continue\n",
    "                pick = np.random.uniform(0, 1)\n",
    "                if pick == 0:\n",
    "                    next_generation[s] = parent_1\n",
    "                else:\n",
    "                    next_generation[s] = parent_2\n",
    "        \n",
    "        population = next_generation\n",
    "    return (best_fitness, best_chromosome)\n",
    "    \n"
   ]
  },
  {
   "cell_type": "code",
   "execution_count": 80,
   "metadata": {},
   "outputs": [
    {
     "name": "stdout",
     "output_type": "stream",
     "text": [
      "Crossover Probablity: 0.700000, Mutation Probability: 0.100000 Elitism: 1, Fitness: 233.616334\n",
      "Crossover Probablity: 0.700000, Mutation Probability: 0.100000 Elitism: 2, Fitness: 228.776422\n",
      "Crossover Probablity: 0.700000, Mutation Probability: 0.100000 Elitism: 3, Fitness: 226.229704\n",
      "Crossover Probablity: 0.700000, Mutation Probability: 0.200000 Elitism: 1, Fitness: 195.456478\n",
      "Crossover Probablity: 0.700000, Mutation Probability: 0.200000 Elitism: 2, Fitness: 151.839454\n",
      "Crossover Probablity: 0.700000, Mutation Probability: 0.200000 Elitism: 3, Fitness: 241.131439\n",
      "Crossover Probablity: 0.800000, Mutation Probability: 0.100000 Elitism: 1, Fitness: 194.655755\n",
      "Crossover Probablity: 0.800000, Mutation Probability: 0.100000 Elitism: 2, Fitness: 223.661351\n",
      "Crossover Probablity: 0.800000, Mutation Probability: 0.100000 Elitism: 3, Fitness: 251.486405\n",
      "Crossover Probablity: 0.800000, Mutation Probability: 0.200000 Elitism: 1, Fitness: 170.178925\n",
      "Crossover Probablity: 0.800000, Mutation Probability: 0.200000 Elitism: 2, Fitness: 202.781296\n",
      "Crossover Probablity: 0.800000, Mutation Probability: 0.200000 Elitism: 3, Fitness: 272.346619\n",
      "Crossover Probablity: 0.900000, Mutation Probability: 0.100000 Elitism: 1, Fitness: 220.486845\n",
      "Crossover Probablity: 0.900000, Mutation Probability: 0.100000 Elitism: 2, Fitness: 169.699269\n",
      "Crossover Probablity: 0.900000, Mutation Probability: 0.100000 Elitism: 3, Fitness: 221.914075\n",
      "Crossover Probablity: 0.900000, Mutation Probability: 0.200000 Elitism: 1, Fitness: 181.758413\n",
      "Crossover Probablity: 0.900000, Mutation Probability: 0.200000 Elitism: 2, Fitness: 198.865615\n",
      "Crossover Probablity: 0.900000, Mutation Probability: 0.200000 Elitism: 3, Fitness: 194.391061\n"
     ]
    }
   ],
   "source": [
    "# Run the genetic algorithm for different values of the requested parameters\n",
    "best_fitness_football = 0\n",
    "for pc in np.linspace(0.7, 0.9, 3):\n",
    "    for pm in [0.1, 0.2]:\n",
    "        for x in range(1,4):\n",
    "            fitn,  chromosome = genetic_algorithm(football, x, pc, pm)\n",
    "            print(\"Crossover Probablity: %f, Mutation Probability: %f Elitism: %d, Fitness: %f\" % (pc, pm, x, fitn))\n",
    "            if best_fitness_football < fitn:\n",
    "                best_chromosome_football = chromosome\n",
    "                best_fitness_football = fitn\n",
    "                "
   ]
  },
  {
   "cell_type": "code",
   "execution_count": 82,
   "metadata": {},
   "outputs": [
    {
     "name": "stdout",
     "output_type": "stream",
     "text": [
      "Best fitness was 272.346619\n"
     ]
    },
    {
     "data": {
      "image/png": "[encoded data removed]",
      "text/plain": [
       "<Figure size 432x288 with 1 Axes>"
      ]
     },
     "metadata": {},
     "output_type": "display_data"
    }
   ],
   "source": [
    "print(\"Best fitness was %f\" % best_fitness_football)\n",
    "new_G = nx.Graph()\n",
    "\n",
    "for i in range(len(best_chromosome_football)):\n",
    "    new_G.add_edge(i, best_chromosome_football[i])\n",
    "plt.figure()\n",
    "nx.draw(new_G)"
   ]
  },
  {
   "cell_type": "code",
   "execution_count": 89,
   "metadata": {},
   "outputs": [
    {
     "name": "stdout",
     "output_type": "stream",
     "text": [
      "Crossover Probablity: 0.700000, Mutation Probability: 0.100000 Elitism: 1, Fitness: 37.096382\n",
      "Crossover Probablity: 0.700000, Mutation Probability: 0.100000 Elitism: 2, Fitness: 36.092192\n",
      "Crossover Probablity: 0.700000, Mutation Probability: 0.100000 Elitism: 3, Fitness: 33.604695\n",
      "Crossover Probablity: 0.700000, Mutation Probability: 0.200000 Elitism: 1, Fitness: 32.377601\n",
      "Crossover Probablity: 0.700000, Mutation Probability: 0.200000 Elitism: 2, Fitness: 29.538800\n",
      "Crossover Probablity: 0.700000, Mutation Probability: 0.200000 Elitism: 3, Fitness: 31.638341\n",
      "Crossover Probablity: 0.800000, Mutation Probability: 0.100000 Elitism: 1, Fitness: 35.612401\n",
      "Crossover Probablity: 0.800000, Mutation Probability: 0.100000 Elitism: 2, Fitness: 35.556756\n",
      "Crossover Probablity: 0.800000, Mutation Probability: 0.100000 Elitism: 3, Fitness: 34.874675\n",
      "Crossover Probablity: 0.800000, Mutation Probability: 0.200000 Elitism: 1, Fitness: 31.848566\n",
      "Crossover Probablity: 0.800000, Mutation Probability: 0.200000 Elitism: 2, Fitness: 32.812276\n",
      "Crossover Probablity: 0.800000, Mutation Probability: 0.200000 Elitism: 3, Fitness: 33.224541\n",
      "Crossover Probablity: 0.900000, Mutation Probability: 0.100000 Elitism: 1, Fitness: 32.308525\n",
      "Crossover Probablity: 0.900000, Mutation Probability: 0.100000 Elitism: 2, Fitness: 33.449469\n",
      "Crossover Probablity: 0.900000, Mutation Probability: 0.100000 Elitism: 3, Fitness: 34.733989\n",
      "Crossover Probablity: 0.900000, Mutation Probability: 0.200000 Elitism: 1, Fitness: 32.437616\n",
      "Crossover Probablity: 0.900000, Mutation Probability: 0.200000 Elitism: 2, Fitness: 29.130908\n",
      "Crossover Probablity: 0.900000, Mutation Probability: 0.200000 Elitism: 3, Fitness: 36.108747\n"
     ]
    }
   ],
   "source": [
    "best_fitness_dolphins = 0\n",
    "for pc in np.linspace(0.7, 0.9, 3):\n",
    "    for pm in [0.1, 0.2]:\n",
    "        for x in range(1,4):\n",
    "            fitn,  chromosome = genetic_algorithm(dolphins, x, pc, pm)\n",
    "            print(\"Crossover Probablity: %f, Mutation Probability: %f Elitism: %d, Fitness: %f\" % (pc, pm, x, fitn))\n",
    "            if best_fitness_dolphins < fitn:\n",
    "                best_chromosome_dolphins = chromosome\n",
    "                best_fitness_dolphins = fitn         "
   ]
  },
  {
   "cell_type": "code",
   "execution_count": 90,
   "metadata": {},
   "outputs": [
    {
     "name": "stdout",
     "output_type": "stream",
     "text": [
      "Best fitness was 37.096382\n"
     ]
    },
    {
     "data": {
      "image/png": "[encoded data removed]",
      "text/plain": [
       "<Figure size 432x288 with 1 Axes>"
      ]
     },
     "metadata": {},
     "output_type": "display_data"
    }
   ],
   "source": [
    "print(\"Best fitness was %f\" % best_fitness_dolphins)\n",
    "\n",
    "new_G = nx.Graph()\n",
    "\n",
    "for i in range(len(best_chromosome_dolphins)):\n",
    "    new_G.add_edge(i, best_chromosome_dolphins[i])\n",
    "plt.figure()\n",
    "nx.draw(new_G)"
   ]
  },
  {
   "cell_type": "code",
   "execution_count": 93,
   "metadata": {},
   "outputs": [
    {
     "name": "stdout",
     "output_type": "stream",
     "text": [
      "Crossover Probablity: 0.700000, Mutation Probability: 0.100000 Elitism: 1, Fitness: 161.906513\n",
      "Crossover Probablity: 0.700000, Mutation Probability: 0.100000 Elitism: 2, Fitness: 148.299685\n",
      "Crossover Probablity: 0.700000, Mutation Probability: 0.100000 Elitism: 3, Fitness: 152.490010\n",
      "Crossover Probablity: 0.700000, Mutation Probability: 0.200000 Elitism: 1, Fitness: 156.978009\n",
      "Crossover Probablity: 0.700000, Mutation Probability: 0.200000 Elitism: 2, Fitness: 144.522724\n",
      "Crossover Probablity: 0.700000, Mutation Probability: 0.200000 Elitism: 3, Fitness: 154.124011\n",
      "Crossover Probablity: 0.800000, Mutation Probability: 0.100000 Elitism: 1, Fitness: 162.837684\n",
      "Crossover Probablity: 0.800000, Mutation Probability: 0.100000 Elitism: 2, Fitness: 167.371661\n",
      "Crossover Probablity: 0.800000, Mutation Probability: 0.100000 Elitism: 3, Fitness: 142.793273\n",
      "Crossover Probablity: 0.800000, Mutation Probability: 0.200000 Elitism: 1, Fitness: 143.727747\n",
      "Crossover Probablity: 0.800000, Mutation Probability: 0.200000 Elitism: 2, Fitness: 139.783812\n",
      "Crossover Probablity: 0.800000, Mutation Probability: 0.200000 Elitism: 3, Fitness: 139.616355\n",
      "Crossover Probablity: 0.900000, Mutation Probability: 0.100000 Elitism: 1, Fitness: 151.642089\n",
      "Crossover Probablity: 0.900000, Mutation Probability: 0.100000 Elitism: 2, Fitness: 161.929326\n",
      "Crossover Probablity: 0.900000, Mutation Probability: 0.100000 Elitism: 3, Fitness: 163.526470\n",
      "Crossover Probablity: 0.900000, Mutation Probability: 0.200000 Elitism: 1, Fitness: 142.480706\n",
      "Crossover Probablity: 0.900000, Mutation Probability: 0.200000 Elitism: 2, Fitness: 142.004574\n",
      "Crossover Probablity: 0.900000, Mutation Probability: 0.200000 Elitism: 3, Fitness: 158.305281\n"
     ]
    }
   ],
   "source": [
    "best_fitness_lesmis = 0\n",
    "for pc in np.linspace(0.7, 0.9, 3):\n",
    "    for pm in [0.1, 0.2]:\n",
    "        for x in range(1,4):\n",
    "            fitn,  chromosome = genetic_algorithm(lesmis, x, pc, pm)\n",
    "            print(\"Crossover Probablity: %f, Mutation Probability: %f Elitism: %d, Fitness: %f\" % (pc, pm, x, fitn))\n",
    "            if best_fitness_lesmis < fitn:\n",
    "                best_chromosome_lesmis = chromosome\n",
    "                best_fitness_lesmis = fitn"
   ]
  },
  {
   "cell_type": "code",
   "execution_count": 39,
   "metadata": {},
   "outputs": [
    {
     "name": "stdout",
     "output_type": "stream",
     "text": [
      "Best fitness was 163.857523\n"
     ]
    },
    {
     "data": {
      "image/png": "[encoded data removed]",
      "text/plain": [
       "<Figure size 432x288 with 1 Axes>"
      ]
     },
     "metadata": {},
     "output_type": "display_data"
    }
   ],
   "source": [
    "print(\"Best fitness was %f\" % best_fitness_lesmis)\n",
    "       \n",
    "new_G = nx.Graph()\n",
    "\n",
    "for i in range(len(best_chromosome_lesmis)):\n",
    "    new_G.add_edge(i, best_chromosome_lesmis[i])\n",
    "plt.figure()\n",
    "nx.draw(new_G)"
   ]
  },
  {
   "cell_type": "markdown",
   "metadata": {},
   "source": [
    "Το modularity υπολογίζεται ως $$Q = \\frac{1}{2m} \\sum_{ij} \\left( A_{ij} - \\frac{k_ik_j}{2m}\\right) \\delta(c_i,c_j)$$\n",
    "\n",
    "where $m$ is the number of edges, $A$ is the adjacency matrix of\n",
    "    `G`, $k_i$ is the degree of $i$ and $\\delta(c_i, c_j)$\n",
    "    is 1 if $i$ and $j$ are in the same community and 0 otherwise."
   ]
  },
  {
   "cell_type": "code",
   "execution_count": 41,
   "metadata": {},
   "outputs": [],
   "source": [
    "# modularity for GA community detection algorithm \n",
    "def compute_modularity(G,G_results):\n",
    "    new_G = nx.Graph()\n",
    "    \n",
    "    for i in range(len(G_results)):\n",
    "        new_G.add_edge(i, G_results[i])\n",
    "        \n",
    "    k = nx.number_connected_components(new_G) # number of connected components\n",
    "    partitioning = tuple(nx.connected_components(new_G)) # connected components\n",
    "    \n",
    "    mod = nx.algorithms.community.quality.performance(G, partitioning)\n",
    "    return mod, k"
   ]
  },
  {
   "cell_type": "code",
   "execution_count": 94,
   "metadata": {},
   "outputs": [],
   "source": [
    "football_ga_mod, football_k = compute_modularity(football, best_chromosome_football)\n",
    "dolphins_ga_mod, dolphins_k = compute_modularity(dolphins, best_chromosome_dolphins)\n",
    "lesmis_ga_mod, lesmis_k = compute_modularity(lesmis, best_chromosome_lesmis)"
   ]
  },
  {
   "cell_type": "markdown",
   "metadata": {},
   "source": [
    "#### Σχόλια για τα αποτελέσματα του γενετικού αλγόριθμου ανάλογα με τις τιμές των παραμέτρων\n",
    "\n",
    "Παρατηρούμε ότι το μεγάλο Elitism ($3$), καθώς $0.8$ crossover rate με ψηλό $0.2$ mutation rate, τείνουν να μας δώσουν καλύτερα αποτελέσματα. Ακόμα, για κάποιο λόγο, με Elitism $2$ χρομοσωμάτων παίρνουμε συνήθως χειρότερα αποτελέσματα από ότι με Elitism 1."
   ]
  },
  {
   "cell_type": "markdown",
   "metadata": {},
   "source": [
    "### Find the best partition with Girvan-Newman, Spectral Clustering and Modularity Maximization\n",
    "<p style=text-align:justify>Aποτέλεσματα των αλγορίθμων της δεύτερης εργαστηριακής άσκησης (με προτεινόμενη υλοποίηση).</p>"
   ]
  },
  {
   "cell_type": "code",
   "execution_count": 44,
   "metadata": {},
   "outputs": [],
   "source": [
    "import itertools\n",
    "\n",
    "# Girvan_newman:partitions of at most k communities, select the one with the highest value of modularity.\n",
    "def comd_GN(G,k):\n",
    "    gn_G = nx.algorithms.community.centrality.girvan_newman(G)\n",
    "    limited = itertools.takewhile(lambda c: len(c) <= k, gn_G)\n",
    "    per_G = []\n",
    "    com_G = []\n",
    "    for communities in limited:\n",
    "        per = nx.algorithms.community.quality.performance(G,communities)\n",
    "        per_G.append(per) #list of performance of each partition\n",
    "        com_G.append(communities) # list of partitions\n",
    "    max_mod_G = max(per_G) # maximum modularity value\n",
    "    index_G = per_G.index(max(per_G)) # index of maximum modularity\n",
    "    best_G = com_G[index_G] # the partition of maximum modularity  \n",
    "    num_best_G = len(best_G)\n",
    "    return best_G, max_mod_G, num_best_G\n",
    "\n",
    "GN_best_football, GN_mod_football, GN_num_football = comd_GN(football,50)\n",
    "GN_best_lesmis, GN_mod_lesmis, GN_num_lesmis = comd_GN(lesmis,50)\n",
    "GN_best_dolphins, GN_mod_dolphins, GN_num_dolphins = comd_GN(dolphins,50)"
   ]
  },
  {
   "cell_type": "code",
   "execution_count": 45,
   "metadata": {},
   "outputs": [],
   "source": [
    "from sklearn.cluster import SpectralClustering\n",
    "\n",
    "# Spectral Clustering\n",
    "def comd_SP(G,k):\n",
    "    mG = np.array(nx.to_numpy_matrix(G))\n",
    "    clustering = SpectralClustering(n_clusters=k,random_state=0, affinity='precomputed').fit(mG)\n",
    "    clabels = clustering.labels_\n",
    "    numc = clustering.n_clusters\n",
    "    b = dict(enumerate(clabels,0)) # create a mapping of nodes indices to the community it belongs\n",
    "    d = [] # a list of all communities (each list is a community)\n",
    "    for i in range(0,numc):\n",
    "        d.append([k for k,v in b.items() if float(v) == i])\n",
    "    per = nx.algorithms.community.quality.performance(G,d)\n",
    "    return d, per, numc\n",
    "\n",
    "def find_best_SP_partition(G,k):\n",
    "    com = []\n",
    "    com_mod = []\n",
    "    com_num = []\n",
    "    for i in range(2,k):\n",
    "        tcom,tcom_mod,tcom_num = comd_SP(G,i)\n",
    "        com.append(tcom)\n",
    "        com_mod.append(tcom_mod)\n",
    "        com_num.append(tcom_num)\n",
    "    index = com_mod.index(max(com_mod))\n",
    "    G_SP = com[index]\n",
    "    G_SP_mod = com_mod[index]\n",
    "    G_SP_num = com_num[index]\n",
    "    return G_SP, G_SP_mod, G_SP_num\n",
    "\n",
    "football_SP, football_SP_mod, football_SP_num = find_best_SP_partition(football,50) \n",
    "lesmis_SP, lesmis_SP_mod, lesmis_SP_num = find_best_SP_partition(lesmis,50)  \n",
    "dolphins_SP, dolphins_SP_mod, dolphins_SP_num = find_best_SP_partition(dolphins,50)"
   ]
  },
  {
   "cell_type": "code",
   "execution_count": 46,
   "metadata": {},
   "outputs": [],
   "source": [
    "# Modularity Maximization\n",
    "def comd_MM(G):\n",
    "    c = list(nx.algorithms.community.modularity_max.greedy_modularity_communities(G))\n",
    "    mm_G = []\n",
    "    for i,j in enumerate(c):\n",
    "        a = list(j)\n",
    "        mm_G.append(a)\n",
    "    per = nx.algorithms.community.quality.performance(G,mm_G)\n",
    "    num_G = len(mm_G)\n",
    "    return mm_G, per,num_G\n",
    "\n",
    "football_MM, football_MM_mod, football_MM_num = comd_MM(football)\n",
    "lesmis_MM, lesmis_MM_mod, lesmis_MM_num = comd_MM(lesmis)  \n",
    "dolphins_MM, dolphins_MM_mod, dolphins_MM_num = comd_MM(dolphins)"
   ]
  },
  {
   "cell_type": "markdown",
   "metadata": {},
   "source": [
    "### Compare best modularity scores for all algorithms"
   ]
  },
  {
   "cell_type": "code",
   "execution_count": 95,
   "metadata": {},
   "outputs": [
    {
     "name": "stdout",
     "output_type": "stream",
     "text": [
      "American College Football\n",
      "Girvan-Newman: 17 communities with modularity score 0.9581998474446987\n",
      "Spectral Clustering: 15 communities with modularity score 0.9581998474446987\n",
      "Modularity Maximization: 6 communities with modularity score 0.8681922196796339\n",
      "Genetic Algorithm: 10 communities with modularity score 0.882837528604119\n",
      "\n",
      "Les Miserables\n",
      "Girvan-Newman: 32 communities with modularity score 0.9630895420369104\n",
      "Spectral Clustering: 24 communities with modularity score 0.9504442925495558\n",
      "Modularity Maximization: 5 communities with modularity score 0.815105946684894\n",
      "Genetic Algorithm: 13 communities with modularity score 0.9237867395762133\n",
      "\n",
      "Dolphins\n",
      "Girvan-Newman: 27 communities with modularity score 0.9439450026441036\n",
      "Spectral Clustering: 21 communities with modularity score 0.9413008989952406\n",
      "Modularity Maximization: 4 communities with modularity score 0.7424643046007403\n",
      "Genetic Algorithm: 12 communities with modularity score 0.8873611845584347\n"
     ]
    }
   ],
   "source": [
    "# Compare results \n",
    "print (\"American College Football\")\n",
    "print (\"Girvan-Newman: %r communities with modularity score %r\" %(GN_num_football, GN_mod_football))\n",
    "print (\"Spectral Clustering: %r communities with modularity score %r\" %(football_SP_num, football_SP_mod))\n",
    "print (\"Modularity Maximization: %r communities with modularity score %r\" %(football_MM_num, football_MM_mod))\n",
    "print (\"Genetic Algorithm: %r communities with modularity score %r\" %(football_k, football_ga_mod))\n",
    "print()\n",
    "print (\"Les Miserables\")\n",
    "print (\"Girvan-Newman: %r communities with modularity score %r\" %(GN_num_lesmis, GN_mod_lesmis))\n",
    "print (\"Spectral Clustering: %r communities with modularity score %r\" %(lesmis_SP_num, lesmis_SP_mod))\n",
    "print (\"Modularity Maximization: %r communities with modularity score %r\" %(lesmis_MM_num, lesmis_MM_mod))\n",
    "print (\"Genetic Algorithm: %r communities with modularity score %r\"%(lesmis_k, lesmis_ga_mod))\n",
    "print()\n",
    "print (\"Dolphins\")\n",
    "print (\"Girvan-Newman: %r communities with modularity score %r\" %(GN_num_dolphins, GN_mod_dolphins))\n",
    "print (\"Spectral Clustering: %r communities with modularity score %r\" %(dolphins_SP_num, dolphins_SP_mod))\n",
    "print (\"Modularity Maximization: %r communities with modularity score %r\" %(dolphins_MM_num, dolphins_MM_mod))\n",
    "print (\"Genetic Algorithm: %r communities with modularity score %r\" %(dolphins_k, dolphins_ga_mod))"
   ]
  },
  {
   "cell_type": "markdown",
   "metadata": {},
   "source": [
    "#### Σχόλια για τα αποτελέσματα του γενετικού αλγόριθμου συγκριτικά με τους άλλους\n",
    "\n",
    "Τα αποτελέσματα που παίρνουμε είναι αρκετά κοντά στα αναμενόμενα. Σύμφωνα με το paper, τα αποτελέσματα που παίρνουμε από τον γενετικό αλγόριθμο είναι τουλάχιστον ισάξια με την μέθοδο Grivan-Newman. Αυτή η μικρή διαφορά μπορεί να συμβαίνει λόγω του μικρού Elitism (μέγιστο 1%, ενώ στο paper χρησιμοποιούσαν 10%) ή και σε κάποιο σφάλμα στον γενετικό μας αλγόριθμο. "
   ]
  },
  {
   "cell_type": "code",
   "execution_count": null,
   "metadata": {},
   "outputs": [],
   "source": []
  }
 ],
 "metadata": {
  "kernelspec": {
   "display_name": "Python 3",
   "language": "python",
   "name": "python3"
  },
  "language_info": {
   "codemirror_mode": {
    "name": "ipython",
    "version": 3
   },
   "file_extension": ".py",
   "mimetype": "text/x-python",
   "name": "python",
   "nbconvert_exporter": "python",
   "pygments_lexer": "ipython3",
   "version": "3.7.4"
  }
 },
 "nbformat": 4,
 "nbformat_minor": 4
}
