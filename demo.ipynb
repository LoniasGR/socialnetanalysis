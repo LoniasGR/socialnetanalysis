{
 "cells": [
  {
   "cell_type": "markdown",
   "metadata": {},
   "source": [
    "# Social Network Analysis with Python and NetworkX\n",
    "\n",
    "Social Network Analysis (SNA) has a wide applicability in many scientific fields and industries. \n",
    "This is a gentle introduction to SNA using Python and NetworkX, a powerful and mature python library for the study of the structure, dynamics, and functions of complex networks."
   ]
  },
  {
   "cell_type": "markdown",
   "metadata": {},
   "source": [
    "## Outline\n",
    "\n",
    "1. Brief Introduction to Graph Theory\n",
    "    * Mathematical foundation of Social Network Analysis.    \n",
    "2. Creating and Manipulating Graphs\n",
    "    * Data Structures: Graphs\n",
    "    * Adding nodes and edges.\n",
    "    * Adding and updating node and edge attributes.\n",
    "    * Graph generators.\n",
    "    * Visualizing graphs using Matplotlib.\n",
    "    * Common formats for reading and writing Graphs. \n",
    "3. Network Analysis\n",
    "    * Basic concepts: Degree.\n",
    "    * Distance measures: paths, simple paths, and shortest paths.\n",
    "    * Node centrality analysis: measures and their relation.\n",
    "    * Analyzing groups and subgroups: Cliques, k-cores, components, and k-components."
   ]
  },
  {
   "cell_type": "markdown",
   "metadata": {},
   "source": [
    "## Brief Introduction to Graph Theory\n",
    "\n",
    "Social Network Analysis is an analytical approach to investigate social structures and phenomena which is based on Graph Theory. This approach is essentially relational and structural because it focuses on the patterns of relations between entities in a social system modeling them as **networked structures**.\n",
    "\n",
    "These networked structures are characterized in terms of **nodes** or **vertices** (individual actors, people, or things within the network) and the **edges** or **links** (relationships or interactions) that connect them. From a mathematical point of view, these networked structures are modeled as **Graphs**."
   ]
  },
  {
   "cell_type": "markdown",
   "metadata": {},
   "source": [
    "\n",
    "* A **Graph** $G=(V,E)$ consists of a set $V(G)$ of $n$ nodes and a set $E(G)$ of $m$ edges, each one linking a pair of nodes. The **order** of $G$ is its number of nodes $n$ and the **size** of $G$ is its number of edges $m$. Two nodes are adjacent if there is an edge that links them, and this edge is said to be incident with the two nodes it links. \n",
    "\n",
    "* A **subgraph** of $G$ is a graph whose nodes and edges are all in $G$. An **induced subgraph** $G[U]$ is a subgraph defined by a subset of nodes $U \\subseteq V(G)$ with all the edges in $G$ that link nodes in $U$. A subgraph is **maximal** in respect to some property if the addition of more nodes to the subgraph will cause the loss of that property.\n",
    "\n",
    "* A **path** is an alternating sequence of distinct nodes and edges in which each edge is incident with its preceding and following nodes. The length of a path is the number of edges it contains. A graph is connected if every pair of nodes is joined at least by one path.\n",
    "\n",
    "* The **shortest path** between two nodes is a path with the minimum number of edges. The **distance** between any two nodes $u$ and $v$ of $G$, denoted $d_{G}(u,v)$, is the length of the shortest path between them. The **diameter** of a graph $G$, denoted $diam(G)$, is the length of the longest shortest path between any pair of nodes of $G$.\n",
    "\n",
    "* **Node independent paths** are paths between two nodes that share no nodes in common other than their starting and ending nodes.\n",
    "\n",
    "* A **component** of a graph $G$ is a maximal connected subgraph, which means that there is at least one path between any two nodes in that subgraph.\n",
    "\n",
    "* The **density** of a graph $G$, denoted $\\varrho(G)$, measures how many edges are in set $E(G)$ compared to the maximum possible number of edges among nodes in $V(G)$. Thus, density is calculated as $\\varrho(G) = \\frac{2m}{n(n-1)}$.\n",
    "\n",
    "* A **complete graph** is a graph in which all possible edges are present, so its density is 1. A **clique** is an induced subgraph $G[U]$ formed by a subset of nodes $U \\subseteq V(G)$ if, and only if, the induced subgraph $G[U]$ is a complete graph. Thus, there is an edge that links each pair of nodes in a clique. \n",
    "\n",
    "* The **degree** of a node $v$, denoted $deg(v)$, is the number of edges that are incident with $v$. The minimum degree of a graph $G$ is denoted $\\delta(G)$ and it is the smallest degree of a node in $G$.\n",
    "\n",
    "* A $k$-core of $G$ is a maximal subgraph in which all nodes have degree greater or equal than $k$; which means that a $k$-core is a maximal subgraph with the property $\\delta \\ge k$. The **core number** of a node is the largest value $k$ of a $k$-core containing that node.\n",
    "\n",
    "* The removal of a node $v$ from $G$ results in a subgraph $G - v$ that does not contain $v$ nor any of its incident edges.\n",
    "\n",
    "* The **node connectivity** of a graph $G$ is denoted $\\kappa(G)$ and is defined as the minimum number of nodes that must be removed in order to disconnect the graph $G$. Those nodes that must be removed to disconnect $G$ form a **node cut-set**. If it is only necessary to remove one node to disconnect $G$, this node is called an **articulation point**.\n",
    "\n",
    "* We can also define the **local node connectivity** for two nodes $u$ and $v$, denoted $\\kappa_{G}(u,v)$, as the minimum number of nodes that must be removed in order to destroy all paths that join $u$ and $v$ in $G$. Then the **node connectivity** of $G$ is equal to $min{\\{\\kappa_{G}(u,v):u,v \\in V(G)\\}}$.\n",
    "\n",
    "* Similarly, the **edge connectivity** of a graph $G$ is denoted $\\lambda(G)$ and is defined as the minimum number of edges that must be removed in order to disconnect the graph $G$. The edges that must be removed to disconnect $G$ form an **edge cut-set**.\n",
    "\n",
    "* A **$k$-component** is a maximal subgraph of a graph $G$ that has, at least, node connectivity $k$: we need to remove at least $k$ nodes to break it into more components. The **component number** of a node is the largest value $k$ of a $k$-component containing that node. Notice that $k$-components have an inherent hierarchical structure because they are nested in terms of connectivity: a connected graph can contain several 2-components, each of which can contain one or more tricomponents, and so forth. \n"
   ]
  },
  {
   "cell_type": "markdown",
   "metadata": {},
   "source": [
    "## Creating and Manipulating Graphs using NetworkX\n",
    "\n",
    "NetworkX is a python package for the creation, manipulation, and study of the structure, dynamics, and functions of complex networks."
   ]
  },
  {
   "cell_type": "code",
   "execution_count": 2,
   "metadata": {},
   "outputs": [],
   "source": [
    "import networkx as nx\n",
    "import matplotlib.pyplot as plt\n",
    "%matplotlib inline"
   ]
  },
  {
   "cell_type": "markdown",
   "metadata": {},
   "source": [
    "### Data Structures: Graphs\n",
    "\n",
    "\n",
    "* **Graph**: Undirected graph, allows self-loops"
   ]
  },
  {
   "cell_type": "code",
   "execution_count": 3,
   "metadata": {},
   "outputs": [],
   "source": [
    "G = nx.Graph()"
   ]
  },
  {
   "cell_type": "markdown",
   "metadata": {},
   "source": [
    "#### Internal Graph representation\n",
    "Common graph representations, for instance of a complete undirected graph of 3 nodes (ie a triangle):"
   ]
  },
  {
   "cell_type": "code",
   "execution_count": 4,
   "metadata": {},
   "outputs": [
    {
     "data": {
      "image/png": "[encoded data removed]",
      "text/plain": [
       "<Figure size 432x288 with 1 Axes>"
      ]
     },
     "metadata": {},
     "output_type": "display_data"
    }
   ],
   "source": [
    "G = nx.Graph()\n",
    "G.add_edges_from([('1', '2'), ('1', '3'), ('2', '3'), ('3','4')])\n",
    "nx.draw(G, node_size=900, node_color='red', with_labels=True)"
   ]
  },
  {
   "cell_type": "markdown",
   "metadata": {},
   "source": [
    "\n",
    "**Adjacency Matrix** A $n x n$ matrix:\n",
    "\n",
    "        0  1  1        G = [[0, 1, 1],\n",
    "        1  0  1             [1, 0, 1],\n",
    "        1  1  0             [1, 1, 0]]\n",
    "\n",
    "**Adjacency List** A list of neighbors:\n",
    "\n",
    "        A: B, C        G = {'A': ['B', 'C'],\n",
    "        B: A, C             'B': ['A', 'C'],\n",
    "        C: A, B             'C': ['A', 'B']} \n",
    "\n",
    "**Edge List** A list of edges:\n",
    "\n",
    "        A B            G = [['A', 'B'],\n",
    "        A C                 ['A', 'C'],\n",
    "        B C                 ['B', 'C']]\n",
    "\n",
    "NetworkX uses a __dictionary of dictionaries__ based **Adjacency List** format which is fast and ligthweight for sparse graphs. \n",
    "\n",
    "This approach allows for natural expressions such as:\n",
    "\n",
    "* **n in G** to test if the graph $G$ contains node $n$\n",
    "* **for n in G** to loop over all nodes\n",
    "* **G[n]** to access all neighbors of $n$ in $G$\n",
    "* **len(G)** to get the number of nodes in $G$\n",
    "\n",
    "Internally the node $n$ is a key in the $G.adj$ dictionary, values are themselves dictionaries with neighbors as keys and another dictionary as value that holds edge attributes.\n",
    "\n",
    "So NetworkX graphs are \"dictionaries all the way down\". "
   ]
  },
  {
   "cell_type": "code",
   "execution_count": 5,
   "metadata": {},
   "outputs": [
    {
     "name": "stdout",
     "output_type": "stream",
     "text": [
      "{'1': {'2': {}, '3': {}}, '2': {'1': {}, '3': {}}, '3': {'1': {}, '2': {}, '4': {}}, '4': {'3': {}}}\n"
     ]
    }
   ],
   "source": [
    "print(G.adj)"
   ]
  },
  {
   "cell_type": "code",
   "execution_count": 6,
   "metadata": {},
   "outputs": [
    {
     "data": {
      "text/plain": [
       "True"
      ]
     },
     "execution_count": 6,
     "metadata": {},
     "output_type": "execute_result"
    }
   ],
   "source": [
    "'1' in G"
   ]
  },
  {
   "cell_type": "code",
   "execution_count": 7,
   "metadata": {},
   "outputs": [
    {
     "name": "stdout",
     "output_type": "stream",
     "text": [
      "1\n",
      "2\n",
      "3\n",
      "4\n"
     ]
    }
   ],
   "source": [
    "for n in G:\n",
    "    print(n)"
   ]
  },
  {
   "cell_type": "code",
   "execution_count": 8,
   "metadata": {},
   "outputs": [
    {
     "data": {
      "text/plain": [
       "AtlasView({'2': {}, '3': {}})"
      ]
     },
     "execution_count": 8,
     "metadata": {},
     "output_type": "execute_result"
    }
   ],
   "source": [
    "G['1']"
   ]
  },
  {
   "cell_type": "code",
   "execution_count": 9,
   "metadata": {},
   "outputs": [
    {
     "data": {
      "text/plain": [
       "4"
      ]
     },
     "execution_count": 9,
     "metadata": {},
     "output_type": "execute_result"
    }
   ],
   "source": [
    "len(G)"
   ]
  },
  {
   "cell_type": "markdown",
   "metadata": {},
   "source": [
    "### Creating Graphs and adding and removing Nodes and Edges\n",
    "\n",
    "NetworkX is a node centric package; nodes can be any hashable object.\n",
    "\n",
    "A graph $G$ can be grown in several ways:\n",
    "\n",
    "* Adding nodes with:\n",
    "    - **G.add_node** : One node at a time\n",
    "    - **G.add_nodes_from** : A conteiner of nodes\n",
    "* Adding edges with:\n",
    "    - **G.add_edge**: One edge at a time\n",
    "    - **G.add_edges_from** : A container of edges\n"
   ]
  },
  {
   "cell_type": "code",
   "execution_count": 10,
   "metadata": {},
   "outputs": [],
   "source": [
    "# Create an undirected Graph\n",
    "G = nx.Graph()\n",
    "# One node at a time\n",
    "G.add_node(1)  # \"method\" of G\n",
    "# A list of nodes\n",
    "G.add_nodes_from([2, 3])\n",
    "# A container of nodes\n",
    "H = nx.path_graph(10)\n",
    "G.add_nodes_from(H) # G now contains the nodes of H\n",
    "# In contrast, you could use the graph H as a node in G. \n",
    "G.add_node(H) # G now contains Graph H as a node "
   ]
  },
  {
   "cell_type": "markdown",
   "metadata": {},
   "source": [
    "G can also be grown by adding edges.\n",
    "\n",
    "If the edge added already exists no error is raised.\n",
    "\n",
    "If the nodes referred by edges do not already exist they are automatically added to the graph."
   ]
  },
  {
   "cell_type": "code",
   "execution_count": 11,
   "metadata": {},
   "outputs": [],
   "source": [
    "# Adding a single edge\n",
    "G.add_edge(1, 2)\n",
    "# If you have a tuple representing an edge you have to unpack it\n",
    "e = (2, 3)\n",
    "G.add_edge(*e) # unpack edge tuple with *\n",
    "# Add a list of edges \n",
    "G.add_edges_from([(1, 2), (1, 3)])\n",
    "# Add from a container of edges\n",
    "G.add_edges_from(H.edges())"
   ]
  },
  {
   "cell_type": "markdown",
   "metadata": {},
   "source": [
    "Similarly you can remove nodes and edges\n",
    "\n",
    "* Removing nodes with:\n",
    "    - **G.remove_node** : One node at a time\n",
    "    - **G.remove_nodes_from** : A conteiner of nodes\n",
    "* Adding edges with:\n",
    "    - **G.remove_edge**: One edge at a time\n",
    "    - **G.remove_edges_from** : A container of edges\n"
   ]
  },
  {
   "cell_type": "markdown",
   "metadata": {},
   "source": [
    "### Adding and removing Graph, Node, and Edge Attributes\n",
    "\n",
    "Each graph, node, and edge can hold key/value attribute pairs in an associated attribute dictionary."
   ]
  },
  {
   "cell_type": "code",
   "execution_count": 12,
   "metadata": {},
   "outputs": [
    {
     "data": {
      "text/plain": [
       "{'day': 'Friday', 'name': 'My Graph'}"
      ]
     },
     "execution_count": 12,
     "metadata": {},
     "output_type": "execute_result"
    }
   ],
   "source": [
    "# Assign graph attributes when creating a new graph\n",
    "G = nx.Graph(day='Friday', name='My Graph')\n",
    "G.graph # Access to the dictionary that stores graph attrs"
   ]
  },
  {
   "cell_type": "code",
   "execution_count": 13,
   "metadata": {},
   "outputs": [
    {
     "data": {
      "text/plain": [
       "{'day': 'Monday', 'name': 'My Graph'}"
      ]
     },
     "execution_count": 13,
     "metadata": {},
     "output_type": "execute_result"
    }
   ],
   "source": [
    "# Or you can modify attributes later\n",
    "G.graph['day']='Monday'\n",
    "G.graph"
   ]
  },
  {
   "cell_type": "markdown",
   "metadata": {},
   "source": [
    "#### Node Attributes\n",
    "\n",
    "In order to add node attributes you can use the methods **G.add_node** and **G.add_nodes_from**, or the node attribute dictionary **G.node**"
   ]
  },
  {
   "cell_type": "code",
   "execution_count": 14,
   "metadata": {},
   "outputs": [
    {
     "ename": "AttributeError",
     "evalue": "'Graph' object has no attribute 'node'",
     "output_type": "error",
     "traceback": [
      "\u001b[0;31m---------------------------------------------------------------------------\u001b[0m",
      "\u001b[0;31mAttributeError\u001b[0m                            Traceback (most recent call last)",
      "\u001b[0;32m<ipython-input-14-fdd79ef8a709>\u001b[0m in \u001b[0;36m<module>\u001b[0;34m\u001b[0m\n\u001b[1;32m      1\u001b[0m \u001b[0mG\u001b[0m\u001b[0;34m.\u001b[0m\u001b[0madd_node\u001b[0m\u001b[0;34m(\u001b[0m\u001b[0;36m1\u001b[0m\u001b[0;34m,\u001b[0m \u001b[0mtime\u001b[0m\u001b[0;34m=\u001b[0m\u001b[0;34m'5pm'\u001b[0m\u001b[0;34m)\u001b[0m\u001b[0;34m\u001b[0m\u001b[0;34m\u001b[0m\u001b[0m\n\u001b[1;32m      2\u001b[0m \u001b[0mG\u001b[0m\u001b[0;34m.\u001b[0m\u001b[0madd_nodes_from\u001b[0m\u001b[0;34m(\u001b[0m\u001b[0;34m[\u001b[0m\u001b[0;36m3\u001b[0m\u001b[0;34m]\u001b[0m\u001b[0;34m,\u001b[0m \u001b[0mtime\u001b[0m\u001b[0;34m=\u001b[0m\u001b[0;34m'2pm'\u001b[0m\u001b[0;34m)\u001b[0m \u001b[0;31m# multiple nodes\u001b[0m\u001b[0;34m\u001b[0m\u001b[0;34m\u001b[0m\u001b[0m\n\u001b[0;32m----> 3\u001b[0;31m \u001b[0mG\u001b[0m\u001b[0;34m.\u001b[0m\u001b[0mnode\u001b[0m\u001b[0;34m[\u001b[0m\u001b[0;36m1\u001b[0m\u001b[0;34m]\u001b[0m\u001b[0;34m[\u001b[0m\u001b[0;34m'room'\u001b[0m\u001b[0;34m]\u001b[0m \u001b[0;34m=\u001b[0m \u001b[0;36m714\u001b[0m \u001b[0;31m# add new attribute\u001b[0m\u001b[0;34m\u001b[0m\u001b[0;34m\u001b[0m\u001b[0m\n\u001b[0m",
      "\u001b[0;31mAttributeError\u001b[0m: 'Graph' object has no attribute 'node'"
     ]
    }
   ],
   "source": [
    "G.add_node(1, time='5pm')\n",
    "G.add_nodes_from([3], time='2pm') # multiple nodes\n",
    "G.node[1]['room'] = 714 # add new attribute"
   ]
  },
  {
   "cell_type": "markdown",
   "metadata": {},
   "source": [
    "Adding a node that is already in the graph does not raise an error, you can add new attributes to an existing node by adding it again with a new attribute:  "
   ]
  },
  {
   "cell_type": "code",
   "execution_count": null,
   "metadata": {},
   "outputs": [],
   "source": [
    "G.add_node(3, room=715)"
   ]
  },
  {
   "cell_type": "markdown",
   "metadata": {},
   "source": [
    "In order to access node attribute information you can:"
   ]
  },
  {
   "cell_type": "code",
   "execution_count": null,
   "metadata": {},
   "outputs": [],
   "source": [
    "# Access the value of the attribute\n",
    "G.node[1]['time']"
   ]
  },
  {
   "cell_type": "markdown",
   "metadata": {},
   "source": [
    "In practice it's usually more useful to iterate over nodes with their attributes "
   ]
  },
  {
   "cell_type": "code",
   "execution_count": null,
   "metadata": {},
   "outputs": [],
   "source": [
    "# Nodes without attributes\n",
    "list(G.nodes())"
   ]
  },
  {
   "cell_type": "code",
   "execution_count": null,
   "metadata": {},
   "outputs": [],
   "source": [
    "# Tuples of node and attribute dictionary\n",
    "list(G.nodes(data=True))"
   ]
  },
  {
   "cell_type": "code",
   "execution_count": null,
   "metadata": {},
   "outputs": [],
   "source": [
    "# In NetworkX version 2.0 you can also directly specify the node attribute in the data keyword\n",
    "if nx.__version__.startswith('2'):\n",
    "    print(list(G.nodes(data='room')))"
   ]
  },
  {
   "cell_type": "markdown",
   "metadata": {},
   "source": [
    "You can also set node attributes using the function **nx.set_node_attributes**. Its arguments are a graph object, a string with the name of the attribute, and a dictionary keyed by node with the value of the attribute for each node or a single value that will be used for all nodes:"
   ]
  },
  {
   "cell_type": "code",
   "execution_count": null,
   "metadata": {},
   "outputs": [],
   "source": [
    "nx.set_node_attributes(G, 'year', 2017)"
   ]
  },
  {
   "cell_type": "markdown",
   "metadata": {},
   "source": [
    "You can get a dictionary keyed by node with the value of a node attribute with the function **nx.get_node_attributes**:"
   ]
  },
  {
   "cell_type": "code",
   "execution_count": null,
   "metadata": {},
   "outputs": [],
   "source": [
    "nx.get_node_attributes(G, 'time')"
   ]
  },
  {
   "cell_type": "markdown",
   "metadata": {},
   "source": [
    "#### Edge Attributes\n",
    "\n",
    "In order to add edge attributes you can use the methods **G.add_edge** and **G.add_edges_from**; the edge attribute dictionary **G.edge** or subscript notation."
   ]
  },
  {
   "cell_type": "code",
   "execution_count": null,
   "metadata": {},
   "outputs": [],
   "source": [
    "G.add_edge(1, 2, weight=4.0 )\n",
    "G.add_edges_from([(3, 4),(4, 5)], color='red')\n",
    "G.add_edges_from([(1, 2, {'color':'blue'}), (2, 3, {'weight':8})])\n",
    "# When an edge is already added you can use subscript notation or update the edge attribute dictionary\n",
    "G[1][2]['weight'] = 4.0"
   ]
  },
  {
   "cell_type": "markdown",
   "metadata": {},
   "source": [
    "Adding an edge that is already in the graph does not raise an error, you can add new attributes to an existing edge by adding it again with a new attribute:  "
   ]
  },
  {
   "cell_type": "code",
   "execution_count": null,
   "metadata": {},
   "outputs": [],
   "source": [
    "G.add_edge(3, 4, weight=12)"
   ]
  },
  {
   "cell_type": "markdown",
   "metadata": {},
   "source": [
    "In order to access edge attribute information you can:"
   ]
  },
  {
   "cell_type": "code",
   "execution_count": null,
   "metadata": {},
   "outputs": [],
   "source": [
    "# Access the value of attribute weight\n",
    "G[1][2]['weight'] # or equivalently G.edge[1][2]['weight']"
   ]
  },
  {
   "cell_type": "code",
   "execution_count": null,
   "metadata": {},
   "outputs": [],
   "source": [
    "# Attributes dictionary for edge 1 -- 2\n",
    "G[1][2] "
   ]
  },
  {
   "cell_type": "markdown",
   "metadata": {},
   "source": [
    "In practice it's usually more useful to iterate over edges with their attributes "
   ]
  },
  {
   "cell_type": "code",
   "execution_count": null,
   "metadata": {},
   "outputs": [],
   "source": [
    "# Edges without attributes\n",
    "list(G.edges())"
   ]
  },
  {
   "cell_type": "code",
   "execution_count": null,
   "metadata": {},
   "outputs": [],
   "source": [
    "# Edges as tuples of nodes and edge attributes\n",
    "list(G.edges(data=True))"
   ]
  },
  {
   "cell_type": "code",
   "execution_count": null,
   "metadata": {},
   "outputs": [],
   "source": [
    "# In NetworkX version 2.0 you can also directly specify the edge attribute in the data keyword\n",
    "if nx.__version__.startswith('2'):\n",
    "    print(list(G.edges(data='weight')))"
   ]
  },
  {
   "cell_type": "markdown",
   "metadata": {},
   "source": [
    "You can also set edge attributes using the function **nx.set_edge_attributes**. Its arguments are a graph object, a string with the name of the attribute, and a dictionary keyed by edge with the value of the attribute for each edge or a single value that will be used for all edges:"
   ]
  },
  {
   "cell_type": "code",
   "execution_count": null,
   "metadata": {},
   "outputs": [],
   "source": [
    "nx.set_edge_attributes(G, 'capacity', 1)"
   ]
  },
  {
   "cell_type": "markdown",
   "metadata": {},
   "source": [
    "You can get a dictionary keyed by edge with the value of an edge attribute with the function **nx.get_edge_attributes**:"
   ]
  },
  {
   "cell_type": "code",
   "execution_count": null,
   "metadata": {},
   "outputs": [],
   "source": [
    "nx.get_edge_attributes(G, 'friendship')"
   ]
  },
  {
   "cell_type": "markdown",
   "metadata": {},
   "source": [
    "An useful method for quickly looking at our graph is **nx.info**"
   ]
  },
  {
   "cell_type": "code",
   "execution_count": null,
   "metadata": {},
   "outputs": [],
   "source": [
    "print(nx.info(G))"
   ]
  },
  {
   "cell_type": "markdown",
   "metadata": {},
   "source": [
    "### Exercise: Building a Graph\n",
    "\n",
    "Build an undirected graph with 50 nodes named as integers from 1 to 50."
   ]
  },
  {
   "cell_type": "code",
   "execution_count": null,
   "metadata": {},
   "outputs": [],
   "source": [
    "G = nx.Graph()\n",
    "G.add_nodes_from(range(1, 51))"
   ]
  },
  {
   "cell_type": "markdown",
   "metadata": {},
   "source": [
    "Add edges between nodes with consecutive numbers, that is, node 1 should have and edge to node 2, node 2 to node 3, etc ..."
   ]
  },
  {
   "cell_type": "code",
   "execution_count": null,
   "metadata": {},
   "outputs": [],
   "source": [
    "G.add_edges_from(zip(range(1, 51), range(2, 51)))"
   ]
  },
  {
   "cell_type": "markdown",
   "metadata": {},
   "source": [
    "Add a node attribute named **kind** with the value **odd** if the node is odd or **even** if the node is even:"
   ]
  },
  {
   "cell_type": "code",
   "execution_count": null,
   "metadata": {},
   "outputs": [],
   "source": [
    "for n in G:\n",
    "    G.node[n]['kind'] = 'even' if n % 2 == 0 else 'odd'"
   ]
  },
  {
   "cell_type": "markdown",
   "metadata": {},
   "source": [
    "Add an edge attribute named **product** with the value of the product of the two nodes that it links."
   ]
  },
  {
   "cell_type": "code",
   "execution_count": null,
   "metadata": {},
   "outputs": [],
   "source": [
    "for u, v in G.edges():\n",
    "    G[u][v]['product'] = u * v\n",
    "    print G.edges(data=True)"
   ]
  },
  {
   "cell_type": "markdown",
   "metadata": {},
   "source": [
    "Build a set with all nodes that have **odd** as the value of node attribute **kind** "
   ]
  },
  {
   "cell_type": "code",
   "execution_count": null,
   "metadata": {},
   "outputs": [],
   "source": [
    "{n for n, data in G.nodes(data=True) if data['kind'] == 'odd'}"
   ]
  },
  {
   "cell_type": "markdown",
   "metadata": {},
   "source": [
    "Build a set of edges that have a value greater than 2000 for their edge attribute **product**"
   ]
  },
  {
   "cell_type": "code",
   "execution_count": null,
   "metadata": {},
   "outputs": [],
   "source": [
    "{(u, v) for u, v, data in G.edges(data=True) if data['product'] > 2000}"
   ]
  },
  {
   "cell_type": "markdown",
   "metadata": {},
   "source": [
    "### More ways to build graphs: operators.\n",
    "\n",
    "Applying classic graph operations"
   ]
  },
  {
   "cell_type": "markdown",
   "metadata": {},
   "source": [
    "* **nx.subgraph(G, node_list)** : induce subgraph of G on nodes in node_list\n",
    "* **nx.union(G1,G2)** : graph union\n",
    "* **nx.disjoint_union(G1,G2)** : graph union assuming all nodes are different\n",
    "* **nx.cartesian_product(G1,G2)**: return Cartesian product graph\n",
    "* **nx.compose(G1,G2)**:  combine graphs identifying nodes common to both\n",
    "* **nx.complement(G)**: graph complement\n",
    "* **nx.create_empty_copy(G)**: return an empty copy of the same graph class"
   ]
  },
  {
   "cell_type": "markdown",
   "metadata": {},
   "source": [
    "### Graph Generators\n",
    "\n",
    "Take a look at all NetworkX [Graph generators](http://networkx.readthedocs.io/en/stable/reference/generators.html)\n",
    "\n",
    "Some examples:"
   ]
  },
  {
   "cell_type": "code",
   "execution_count": null,
   "metadata": {},
   "outputs": [],
   "source": [
    "# small graphs\n",
    "petersen = nx.petersen_graph()\n",
    "tutte = nx.tutte_graph()\n",
    "maze = nx.sedgewick_maze_graph()\n",
    "tet = nx.tetrahedral_graph()\n",
    "\n",
    "# classic graphs\n",
    "K_5 = nx.complete_graph(5)\n",
    "K_3_5 = nx.complete_bipartite_graph(3, 5)\n",
    "barbell = nx.barbell_graph(10, 10)\n",
    "lollipop = nx.lollipop_graph(10, 20)\n",
    "\n",
    "# random graphs\n",
    "er = nx.erdos_renyi_graph(100, 0.15)\n",
    "ws = nx.watts_strogatz_graph(30, 3, 0.1)\n",
    "ba = nx.barabasi_albert_graph(100, 5)\n",
    "red = nx.random_lobster(100, 0.9, 0.9)"
   ]
  },
  {
   "cell_type": "markdown",
   "metadata": {},
   "source": [
    "### Drawing graphs with matplotlib\n",
    "\n",
    "NetworkX is not focused on graphic representations of graphs. However it has a pretty decent module for plotting networks with Matplotlib, it does not produce top quality plots but it's useful for simple plots. In the future the plotting module could be separated from NetworkX in a new package in order to facilitate its development.   \n",
    "\n",
    "NetworkX contains a set of graph layout algorithms that position nodes in 2 and 3-dimensions in order to plot them.\n",
    "\n",
    "As we discussed before, plotting graphs, especially if they are big, seldom helps to analyze them. However if graphs are small or if we only want to highlight a few features of nodes, edges, or the whole graph it can be useful.\n",
    "\n",
    "Now we'll see a general view of NetworkX plotting capabilities, and latter we'll also use some plots to highlight some of the more complex network analysis.\n",
    "\n",
    "We'll use as an example the graph of Florentine families"
   ]
  },
  {
   "cell_type": "code",
   "execution_count": null,
   "metadata": {},
   "outputs": [],
   "source": [
    "G = nx.florentine_families_graph()"
   ]
  },
  {
   "cell_type": "code",
   "execution_count": null,
   "metadata": {},
   "outputs": [],
   "source": [
    "# The function nx.draw is main entry point for NetworkX plotting functions\n",
    "nx.draw(G)"
   ]
  },
  {
   "cell_type": "markdown",
   "metadata": {},
   "source": [
    "By default, the layout (that is the position of the nodes in the 2D plane) used is the spring layout. NetworkX, especially in the upcoming 2.0 version, has some more interesting layout algorithms. We can precompute the layout for a given graph and then pass it to the **nx.draw** function"
   ]
  },
  {
   "cell_type": "code",
   "execution_count": null,
   "metadata": {},
   "outputs": [],
   "source": [
    "pos_spring = nx.spring_layout(G)\n",
    "pos_fr = nx.fruchterman_reingold_layout(G)\n",
    "pos_fr"
   ]
  },
  {
   "cell_type": "code",
   "execution_count": null,
   "metadata": {},
   "outputs": [],
   "source": [
    "nx.draw(G, pos=pos_fr)"
   ]
  },
  {
   "cell_type": "markdown",
   "metadata": {},
   "source": [
    "We can also control the size and color of the nodes, the with of the edges, the labels of the nodes and their fonts via *kwargs* of **nx.draw**:"
   ]
  },
  {
   "cell_type": "code",
   "execution_count": null,
   "metadata": {},
   "outputs": [],
   "source": [
    "plt.figure(figsize=(12,12))\n",
    "nx.draw(G, pos=pos_fr, node_size=3000, node_color='white', with_labels=True)"
   ]
  },
  {
   "cell_type": "markdown",
   "metadata": {},
   "source": [
    "If we want to plot more complex plots, for instance, plot nodes of different colors and sizes, add labels to only some nodes, add edge labels, etc ... We have to use more specialized plot functions such as:\n",
    "\n",
    "* **nx.draw_networkx_nodes**\n",
    "* **nx.draw_networkx_edges**\n",
    "* **nx.draw_networkx_lables**\n",
    "* **nx.draw_networkx_edge_lables**"
   ]
  },
  {
   "cell_type": "code",
   "execution_count": null,
   "metadata": {},
   "outputs": [],
   "source": [
    "plt.figure(figsize=(10,10))\n",
    "big_and_green_nodes = {'Medici', 'Albizzi', 'Strozzi'}\n",
    "other_nodes = set(G) - big_and_green_nodes\n",
    "thick_edges = {('Medici', 'Albizzi'), ('Medici', 'Salviati')}\n",
    "other_edges = set(G.edges()) - thick_edges\n",
    "# Plot nodes\n",
    "nx.draw_networkx_nodes(G, pos=pos_fr, nodelist=big_and_green_nodes, node_size=2000, node_color='green')\n",
    "nx.draw_networkx_nodes(G, pos=pos_fr, nodelist=other_nodes, node_size=500, node_color='white')\n",
    "# Plot edges \n",
    "nx.draw_networkx_edges(G, pos=pos_fr, edgelist=thick_edges, width=3, edge_color='blue')\n",
    "nx.draw_networkx_edges(G, pos=pos_fr, edge_list=other_edges)\n",
    "# Plot node labels\n",
    "nx.draw_networkx_labels(G, pos=pos_fr, labels={n: n for n in big_and_green_nodes})\n",
    "# Plot edge labels\n",
    "nx.draw_networkx_edge_labels(G, pos=pos_fr, edge_labels={e: i for i, e in enumerate(thick_edges)})\n",
    "# Remove axes\n",
    "ax = plt.gca()\n",
    "ax.set_axis_off()"
   ]
  },
  {
   "cell_type": "markdown",
   "metadata": {},
   "source": [
    "### Common formats for reading and writing Graphs\n",
    "\n",
    "You can see the complete list of supported formats at [Read and Write documentation](http://networkx.readthedocs.io/en/stable/reference/readwrite.html)\n",
    "\n",
    "Some examples of the most common formats:\n",
    "\n",
    "* **Adjacency list** Simple format, no attributes\n",
    "    - **nx.read_adjlist**\n",
    "    - **nx.write_adjlist**\n",
    "* **Edge list** Simple format, no attributes\n",
    "    - **nx.read_edgelist**\n",
    "    - **nx.write_adjlist**\n",
    "* **GEXF** Designed to be a standard exchange format for graphs (Gephi)\n",
    "    - **nx.read_gexf**\n",
    "    - **nx.write_gexf**\n",
    "* **GML** Hierarchical ASCII-based file format for describing graphs\n",
    "    - **nx.read_gml**\n",
    "    - **nx.write_gml**\n",
    "* **Pickle** Python standard persistency module (serialize objects to HD)\n",
    "    - **nx.read_gpickle**\n",
    "    - **nx.write_gpickle**\n",
    "* **GraphML** An XML-based file format for graphs\n",
    "    - **nx.read_graphml**\n",
    "    - **nx.write_graphml**\n",
    "* **Pajek** Popular network format used in Pajek (no complete written specification)\n",
    "    - **nx.read_pajek**\n",
    "    - **nx.write_pajek**"
   ]
  },
  {
   "cell_type": "markdown",
   "metadata": {},
   "source": [
    "## Network Analysis\n",
    "\n",
    "Now we'll focus on some key analysis techniques that will allow us to understand the structure of social networks and the importance of its components"
   ]
  },
  {
   "cell_type": "markdown",
   "metadata": {},
   "source": [
    "### Basic concepts: Degree\n",
    "\n",
    "The degree of a node it's the number of incident edges to that node.\n",
    "\n",
    "* **undirected graphs** it'is equal to their number of neighbors.\n",
    "\n",
    "* **directed graphs** we have to distinguish between incoming edges and ougoing edges, and thus we have to distinguish between successors and predecessors.\n",
    "    - **In-degree** Number of predecessors\n",
    "    - **Out-degree** Nuber of successors"
   ]
  },
  {
   "cell_type": "markdown",
   "metadata": {},
   "source": [
    "#### Undirected Graphs"
   ]
  },
  {
   "cell_type": "code",
   "execution_count": null,
   "metadata": {},
   "outputs": [],
   "source": [
    "G = nx.cycle_graph(5)\n",
    "G.add_edge(0, 5)\n",
    "nx.draw(G, pos=nx.fruchterman_reingold_layout(G), with_labels=True)\n",
    "dict(G.degree())"
   ]
  },
  {
   "cell_type": "code",
   "execution_count": null,
   "metadata": {},
   "outputs": [],
   "source": [
    "# You can also get the degree for a single node\n",
    "G.degree(5)"
   ]
  },
  {
   "cell_type": "markdown",
   "metadata": {},
   "source": [
    "#### Quick exercise\n",
    "How to select the node with the greatest degree?"
   ]
  },
  {
   "cell_type": "code",
   "execution_count": null,
   "metadata": {},
   "outputs": [],
   "source": [
    "max(G, key=G.degree)"
   ]
  },
  {
   "cell_type": "code",
   "execution_count": null,
   "metadata": {},
   "outputs": [],
   "source": [
    "# We can get the neighbors of node 0\n",
    "list(G.neighbors(0))"
   ]
  },
  {
   "cell_type": "code",
   "execution_count": null,
   "metadata": {},
   "outputs": [],
   "source": [
    "# We can also access the neighbors, along with the edge labels (empty in this example)\n",
    "# using the subscript notation\n",
    "G[0]"
   ]
  },
  {
   "cell_type": "markdown",
   "metadata": {},
   "source": [
    "#### Directed Graphs"
   ]
  },
  {
   "cell_type": "code",
   "execution_count": null,
   "metadata": {},
   "outputs": [],
   "source": [
    "D = nx.cycle_graph(5, create_using=nx.DiGraph())\n",
    "D.add_edge(0, 5)\n",
    "nx.draw(D, pos=nx.fruchterman_reingold_layout(D), with_labels=True)"
   ]
  },
  {
   "cell_type": "code",
   "execution_count": null,
   "metadata": {},
   "outputs": [],
   "source": [
    "dict(D.in_degree())"
   ]
  },
  {
   "cell_type": "code",
   "execution_count": null,
   "metadata": {},
   "outputs": [],
   "source": [
    "dict(D.out_degree())"
   ]
  },
  {
   "cell_type": "code",
   "execution_count": null,
   "metadata": {},
   "outputs": [],
   "source": [
    "# We can get the successors of a node\n",
    "list(D.successors(0))"
   ]
  },
  {
   "cell_type": "code",
   "execution_count": null,
   "metadata": {},
   "outputs": [],
   "source": [
    "# And it's predecessors\n",
    "list(D.predecessors(0))"
   ]
  },
  {
   "cell_type": "code",
   "execution_count": null,
   "metadata": {},
   "outputs": [],
   "source": [
    "# For digraphs the subscript notation yields the successors for a node\n",
    "D[0]"
   ]
  },
  {
   "cell_type": "markdown",
   "metadata": {},
   "source": [
    "#### Weighted Graphs and weighted degree\n",
    "\n",
    "Edges can have attributes, a very common and useful edge attribute is **weight** which is used to model intensity of relations.\n",
    "\n",
    "The weighted degree of a node is the sum of the weights of its incident edges. "
   ]
  },
  {
   "cell_type": "code",
   "execution_count": null,
   "metadata": {},
   "outputs": [],
   "source": [
    "W = nx.cycle_graph(5)\n",
    "for i, (u, v) in enumerate(W.edges(), 1):\n",
    "    W[u][v]['weight'] = i\n",
    "pos = nx.fruchterman_reingold_layout(W)\n",
    "nx.draw(W, pos=pos, with_labels=True)\n",
    "nx.draw_networkx_edge_labels(W, pos, edge_labels=nx.get_edge_attributes(W, 'weight'))"
   ]
  },
  {
   "cell_type": "code",
   "execution_count": null,
   "metadata": {},
   "outputs": [],
   "source": [
    "for i, (u, v) in enumerate(W.edges(), 1):\n",
    "    print (u,v)"
   ]
  },
  {
   "cell_type": "code",
   "execution_count": null,
   "metadata": {},
   "outputs": [],
   "source": [
    "dict(W.degree())"
   ]
  },
  {
   "cell_type": "code",
   "execution_count": null,
   "metadata": {},
   "outputs": [],
   "source": [
    "dict(W.degree(weight='weight'))"
   ]
  },
  {
   "cell_type": "markdown",
   "metadata": {},
   "source": [
    "#### Quick exercise\n",
    "How can we get the node with greatest weighted degree using the build-in **max** function?\n",
    "\n",
    "Two possible approaches: use **partial** from the **functools** module or compute first the weighted degree for all nodes. "
   ]
  },
  {
   "cell_type": "code",
   "execution_count": null,
   "metadata": {},
   "outputs": [],
   "source": [
    "from functools import partial\n",
    "wdeg = partial(W.degree, weight='weight')\n",
    "max(W, key=wdeg)"
   ]
  },
  {
   "cell_type": "code",
   "execution_count": null,
   "metadata": {},
   "outputs": [],
   "source": [
    "# Or also first computing the weighted degree for all nodes\n",
    "wdegree = dict(W.degree(weight='weight'))\n",
    "max(W, key=wdegree.get)"
   ]
  },
  {
   "cell_type": "markdown",
   "metadata": {},
   "source": [
    "### Paths, simple paths, and shortest paths\n",
    "\n",
    "* A **path** is an alternating sequence of distinct nodes and edges in which each edge is incident with its preceding and following nodes. The length of a path is the number of edges it contains. \n",
    "\n",
    "* A **simple path** is a path with no repeated nodes. See NetworkX documentation for [simple paths](http://networkx.readthedocs.io/en/stable/reference/algorithms.simple_paths.html).\n",
    "\n",
    "* The **shortest path** between two nodes is a path with the minimum number of edges. The **distance** between any two nodes $u$ and $v$ of $G$, denoted $d_{G}(u,v)$, is the length of the shortest path between them. See NetworkX documentation for [shortest paths](http://networkx.readthedocs.io/en/stable/reference/algorithms.shortest_paths.html).\n",
    "\n",
    "NetworkX has high level functions for simple paths and shortest paths that accept directed, undirected and multigraphs and do the right thing. For instance, for directed graphs the paths have to follow the direction of the edges.\n",
    "\n",
    "NetworkX represents the paths as list of nodes, from that it's easy to get the edges that form the path\n",
    "\n",
    "Using the examples from the degree section:"
   ]
  },
  {
   "cell_type": "markdown",
   "metadata": {},
   "source": [
    "#### Undirected Graphs"
   ]
  },
  {
   "cell_type": "code",
   "execution_count": null,
   "metadata": {},
   "outputs": [],
   "source": [
    "nx.has_path(G, 0, 3)"
   ]
  },
  {
   "cell_type": "code",
   "execution_count": null,
   "metadata": {},
   "outputs": [],
   "source": [
    "list(nx.all_simple_paths(G, 0, 3))"
   ]
  },
  {
   "cell_type": "code",
   "execution_count": null,
   "metadata": {},
   "outputs": [],
   "source": [
    "nx.shortest_path(G, 0, 3)"
   ]
  },
  {
   "cell_type": "code",
   "execution_count": null,
   "metadata": {},
   "outputs": [],
   "source": [
    "nx.shortest_path_length(G, 0, 3)"
   ]
  },
  {
   "cell_type": "markdown",
   "metadata": {},
   "source": [
    "How to obtaing the list of edges of a path from the list of nodes that NetworkX outputs?"
   ]
  },
  {
   "cell_type": "code",
   "execution_count": null,
   "metadata": {},
   "outputs": [],
   "source": [
    "path = nx.shortest_path(G, 0, 3)\n",
    "path_edges = list(zip(path, path[1:]))\n",
    "print(\"nodes in path: {}\".format(path))\n",
    "print(\"edges in path: {}\".format(path_edges))"
   ]
  },
  {
   "cell_type": "code",
   "execution_count": null,
   "metadata": {},
   "outputs": [],
   "source": [
    "# You can also compute all shortest paths from a single source node\n",
    "nx.single_source_shortest_path(G, 0)"
   ]
  },
  {
   "cell_type": "code",
   "execution_count": 15,
   "metadata": {},
   "outputs": [
    {
     "data": {
      "text/plain": [
       "[(1, {1: [1]}), (3, {3: [3]})]"
      ]
     },
     "execution_count": 15,
     "metadata": {},
     "output_type": "execute_result"
    }
   ],
   "source": [
    "# Or the shortest paths between each pair of nodes\n",
    "list(nx.all_pairs_shortest_path(G))"
   ]
  },
  {
   "cell_type": "markdown",
   "metadata": {},
   "source": [
    "#### Directed Graphs\n",
    "\n",
    "For directed graphs, paths have to follow the edge directions: "
   ]
  },
  {
   "cell_type": "code",
   "execution_count": null,
   "metadata": {},
   "outputs": [],
   "source": [
    "nx.has_path(D, 0, 3)"
   ]
  },
  {
   "cell_type": "code",
   "execution_count": null,
   "metadata": {},
   "outputs": [],
   "source": [
    "list(nx.all_simple_paths(D, 0, 3))"
   ]
  },
  {
   "cell_type": "code",
   "execution_count": null,
   "metadata": {},
   "outputs": [],
   "source": [
    "nx.shortest_path(D, 0, 3)"
   ]
  },
  {
   "cell_type": "code",
   "execution_count": null,
   "metadata": {},
   "outputs": [],
   "source": [
    "nx.shortest_path_length(D, 0, 3)"
   ]
  },
  {
   "cell_type": "code",
   "execution_count": null,
   "metadata": {},
   "outputs": [],
   "source": [
    "nx.single_source_shortest_path(D, 0)"
   ]
  },
  {
   "cell_type": "code",
   "execution_count": null,
   "metadata": {},
   "outputs": [],
   "source": [
    "nx.all_pairs_shortest_path(D)"
   ]
  },
  {
   "cell_type": "markdown",
   "metadata": {},
   "source": [
    "#### Weighted Graphs\n",
    "\n",
    "For weighted graphs the definition of shortest path considers edge weights; the shprtest path is the path with minium total weight, and the path length is the sum of edge weights. This implies that the shortest weighted path does not necessary has less edges than an alternative path.\n",
    "\n",
    "For computing weighted shortest paths you have to pass a a keyword argument the name of the edge attribute used as weight:"
   ]
  },
  {
   "cell_type": "code",
   "execution_count": null,
   "metadata": {},
   "outputs": [],
   "source": [
    "W = nx.Graph()\n",
    "W.add_edge('a', 'b', weight=0.3)\n",
    "W.add_edge('b', 'c', weight=0.5)\n",
    "W.add_edge('a', 'c', weight=2.0)\n",
    "W.add_edge('c', 'd', weight=1.0)\n",
    "pos = nx.fruchterman_reingold_layout(W)\n",
    "nx.draw(W, pos=pos, with_labels=True)\n",
    "nx.draw_networkx_edge_labels(W, pos, edge_labels=nx.get_edge_attributes(W, 'weight'))"
   ]
  },
  {
   "cell_type": "code",
   "execution_count": null,
   "metadata": {},
   "outputs": [],
   "source": [
    "nx.shortest_path(W, 'a', 'd')"
   ]
  },
  {
   "cell_type": "code",
   "execution_count": null,
   "metadata": {},
   "outputs": [],
   "source": [
    "nx.shortest_path(W, 'a', 'd',weight='weight')"
   ]
  },
  {
   "cell_type": "code",
   "execution_count": null,
   "metadata": {},
   "outputs": [],
   "source": [
    "nx.shortest_path_length(W, 'a', 'd',weight='weight')"
   ]
  },
  {
   "cell_type": "markdown",
   "metadata": {},
   "source": [
    "### Illustrate paths in the Florentine families graph\n",
    "\n",
    "Shortest paths are not unique, we can have more of one path with the same length. You can use **nx.all_shortest_paths** to get all shortest paths."
   ]
  },
  {
   "cell_type": "code",
   "execution_count": null,
   "metadata": {},
   "outputs": [],
   "source": [
    "G = nx.florentine_families_graph()\n",
    "plt.figure(figsize=(12,12))\n",
    "nx.draw(G, pos=pos_fr, node_size=3000, node_color='white', with_labels=True)"
   ]
  },
  {
   "cell_type": "code",
   "execution_count": null,
   "metadata": {},
   "outputs": [],
   "source": [
    "source = 'Medici'\n",
    "target = 'Peruzzi'\n",
    "nx.shortest_path(G, source, target)"
   ]
  },
  {
   "cell_type": "code",
   "execution_count": null,
   "metadata": {},
   "outputs": [],
   "source": [
    "# Shortest paths are not unique\n",
    "list(nx.all_shortest_paths(G, source, target))"
   ]
  },
  {
   "cell_type": "code",
   "execution_count": null,
   "metadata": {},
   "outputs": [],
   "source": [
    "def plot_paths(G, paths):\n",
    "    plt.figure(figsize=(12,12))\n",
    "    pos = nx.fruchterman_reingold_layout(G)\n",
    "    nx.draw_networkx_nodes(G, pos=pos, node_size=3000, node_color='white')\n",
    "    nx.draw_networkx_labels(G, pos=pos, labels={n: n for n in G})\n",
    "    # Draw edges\n",
    "    nx.draw_networkx_edges(G, pos=pos)\n",
    "    for path in paths:\n",
    "        edges = list(zip(path, path[1:]))\n",
    "        nx.draw_networkx_edges(G, pos=pos, edgelist=edges, edge_color='red', width=3)\n",
    "    ax = plt.gca()\n",
    "    ax.set_axis_off()\n",
    "    ax.grid(None)"
   ]
  },
  {
   "cell_type": "code",
   "execution_count": null,
   "metadata": {},
   "outputs": [],
   "source": [
    "plot_paths(G, [nx.shortest_path(G, source, target)])"
   ]
  },
  {
   "cell_type": "code",
   "execution_count": null,
   "metadata": {},
   "outputs": [],
   "source": [
    "plot_paths(G, nx.all_shortest_paths(G, source, target))"
   ]
  },
  {
   "cell_type": "code",
   "execution_count": null,
   "metadata": {},
   "outputs": [],
   "source": [
    "for i, path in enumerate(nx.all_simple_paths(G, source, target), 1):\n",
    "    print(i, path)"
   ]
  },
  {
   "cell_type": "code",
   "execution_count": null,
   "metadata": {},
   "outputs": [],
   "source": [
    "for i, path in enumerate(nx.shortest_simple_paths(G, source, target), 1):\n",
    "    print(i, path)"
   ]
  },
  {
   "cell_type": "markdown",
   "metadata": {},
   "source": [
    "### Node centrality analysis: measures and their relation\n",
    "\n",
    "Centrality analysis allows us to identify the most important nodes (ie actors) of a network. The definition of importance depends on the network that we analyze and the nature of the relations that it models. There are a lot of wellknown centrality measures, and NetworkX provides implementations for most of them (you can see the list of centrality measures at [centrality documentation](http://networkx.readthedocs.io/en/latest/reference/algorithms.centrality.html)).\n",
    "\n",
    "We'll focus here on four essential measures using as an example the network of relations between elite families in renaissance Florence. In this concrete example relations in the network represent marriage ties between families.\n",
    "\n",
    "In the beginning of the 14 century, the Medici family was not the richest nor the one with more formal political power (seats in the city council) on the city republic of Florence, but their relation to other elite families put them in a position of power that allow them to became the city's leading family, a position they would hold for the next three centuries.\n",
    "\n",
    "Analyzing this network we can see that the Medici family had a central position.\n",
    "\n",
    "NetworkX provides the network of florentine families modeled as an undirected graph:"
   ]
  },
  {
   "cell_type": "code",
   "execution_count": null,
   "metadata": {},
   "outputs": [],
   "source": [
    "G = nx.florentine_families_graph()"
   ]
  },
  {
   "cell_type": "markdown",
   "metadata": {},
   "source": [
    "### Degree Centrality\n",
    "\n",
    "The degree of a node in an undirected graph is the number of incident edges of the node, that is, the number of neighbors that it has on the graph.\n",
    "\n",
    "The degree centrality mesaure is the the number of neighbors of each node divided by the maximum number of neighbors that it could have. In an undirected graph, this is $n-1$ where $n$ is the total number of nodes of the graph.\n",
    "\n",
    "The output of the function **nx.degree_centrality** is a dictionary whose keys are the nodes and their value is the degree centrality score. Functions that implement node level measures in NetworkX, such as centrality scores, always return their result as a dictionary, with nodes as keys and the concrete score for that node as a value."
   ]
  },
  {
   "cell_type": "code",
   "execution_count": null,
   "metadata": {},
   "outputs": [],
   "source": [
    "from operator import itemgetter"
   ]
  },
  {
   "cell_type": "code",
   "execution_count": null,
   "metadata": {},
   "outputs": [],
   "source": [
    "degc = nx.degree_centrality(G)\n",
    "# let's list the scores\n",
    "sorted(degc.items(), key=itemgetter(1), reverse=True)"
   ]
  },
  {
   "cell_type": "markdown",
   "metadata": {},
   "source": [
    "### Betweenness centrality\n",
    "\n",
    "Betweenness centrality of a node `v` is the sum of the fraction of all-pairs shortest paths that pass through `v`: \n",
    "\n",
    "$$ c_B(v) =\\sum_{s,t \\in V} \\frac{\\sigma(s, t|v)}{\\sigma(s, t)} $$\n",
    "\n",
    "where `V` is the set of nodes, $\\sigma(s, t)$ is the number of shortest `(s, t)`-paths,  and $\\sigma(s, t|v)$ is the number of those paths passing through `v`."
   ]
  },
  {
   "cell_type": "code",
   "execution_count": null,
   "metadata": {},
   "outputs": [],
   "source": [
    "bet = nx.betweenness_centrality(G)\n",
    "# let's list the scores\n",
    "sorted(bet.items(), key=itemgetter(1), reverse=True)"
   ]
  },
  {
   "cell_type": "markdown",
   "metadata": {},
   "source": [
    "### Closeness centrality\n",
    "\n",
    "Closeness centrality of a node `u` is the reciprocal of the sum of the shortest path distances from `u` to all `n-1` other nodes. Since the sum of distances depends on the number of nodes in the graph, closeness is normalized by the sum of minimum possible distances `n-1`.\n",
    "\n",
    "$$C(u) = \\frac{n - 1}{\\sum_{v=1}^{n-1} d(v, u)}$$\n",
    "\n",
    "where `d(v, u)` is the shortest-path distance between `v` and `u`, and `n` is the number of nodes in the graph. Notice that higher values of closeness indicate higher centrality.\n"
   ]
  },
  {
   "cell_type": "code",
   "execution_count": null,
   "metadata": {},
   "outputs": [],
   "source": [
    "clos = nx.closeness_centrality(G)\n",
    "# let's list the scores\n",
    "sorted(clos.items(), key=itemgetter(1), reverse=True)"
   ]
  },
  {
   "cell_type": "markdown",
   "metadata": {},
   "source": [
    "### Eigenvector Centrality\n",
    "\n",
    "Eigenvector centrality assigns relative scores to all nodes in the network based on the concept that connections to high-scoring nodes contribute more to the score of the node in question than equal connections to low-scoring nodes.\n",
    "\n",
    "Google's pagerank score is a variant of eigenvector centrality (NetworkX also implements the pagerank algorithm)."
   ]
  },
  {
   "cell_type": "code",
   "execution_count": null,
   "metadata": {},
   "outputs": [],
   "source": [
    "eig = nx.eigenvector_centrality(G)\n",
    "# let's list the scores\n",
    "sorted(eig.items(), key=itemgetter(1), reverse=True)"
   ]
  },
  {
   "cell_type": "markdown",
   "metadata": {},
   "source": [
    "### Relation between centrality measures \n",
    "\n",
    "As we can see the Medici family is the most important node in the network in all four centrality measures analyzed here. This is not always the case. When analyzing the node centrality of a network is important to think about the kind of realtions that it models, and choose the centrality measure that fits better in our concrete case.\n",
    "\n",
    "In practice it's useful to plot the relations between centrality scores to see their correlation and see up to which point they provide redundant information. We can do this easily using Pandas and seaborn."
   ]
  },
  {
   "cell_type": "code",
   "execution_count": null,
   "metadata": {},
   "outputs": [],
   "source": [
    "import pandas as pd\n",
    "import seaborn as sns"
   ]
  },
  {
   "cell_type": "code",
   "execution_count": null,
   "metadata": {},
   "outputs": [],
   "source": [
    "centrality_measures = {\n",
    "    'degree': degc,\n",
    "    'betweenness': bet,\n",
    "    'closeness': clos,\n",
    "    'eigenvector': eig,\n",
    "}\n",
    "centrality = pd.DataFrame(centrality_measures)\n",
    "centrality"
   ]
  },
  {
   "cell_type": "code",
   "execution_count": null,
   "metadata": {},
   "outputs": [],
   "source": [
    "sns.pairplot(centrality)"
   ]
  },
  {
   "cell_type": "markdown",
   "metadata": {},
   "source": [
    "#### An example of a graph without high correlation between centrality measures\n",
    "\n",
    "As a couterexample, the graph below has low correlation between some of the centrality measures. This graph is composed by two random graphs joined by a node with an edge to one node of each random graph. The node bridging the two random graphs is in the middle of most shortest paths, and is closer to all other nodes than the nodes in the random graphs; but it only has two incident edges. Thus, it has high betweenness and closeness values but low degree and eigenvector centrality.  "
   ]
  },
  {
   "cell_type": "code",
   "execution_count": null,
   "metadata": {},
   "outputs": [],
   "source": [
    "#B = nx.barbell_graph(10, 1)\n",
    "done = False\n",
    "while not done:\n",
    "    B = nx.disjoint_union(nx.fast_gnp_random_graph(10, 0.5), nx.fast_gnp_random_graph(10, 0.5))\n",
    "    B.add_edges_from([('A', 0), ('A', 15)])\n",
    "    try:\n",
    "        eig = nx.eigenvector_centrality(B)\n",
    "        if nx.is_connected(B):\n",
    "            done = True\n",
    "    except:\n",
    "        pass\n",
    "nx.draw(B, node_size=400, node_color='white', with_labels=True)"
   ]
  },
  {
   "cell_type": "markdown",
   "metadata": {},
   "source": [
    "#### Exercise\n",
    "\n",
    "Analyze the node centrality metrics for the example graph $B$ defined in the previous cell. List the node centrality scores in reverse order.\n",
    "\n",
    "Then build a pandas DataFrame with nodes as rows and centrality metrics as columns. Plot a pairplot using seaborn to graphically see the correlation between centrality measures. How it's different from the correlations between centrality scores from the florentine families example?"
   ]
  },
  {
   "cell_type": "code",
   "execution_count": null,
   "metadata": {},
   "outputs": [],
   "source": [
    "# Degree Centrality\n",
    "degc = nx.degree_centrality(B)\n",
    "sorted(degc.items(), key=itemgetter(1), reverse=True)"
   ]
  },
  {
   "cell_type": "code",
   "execution_count": null,
   "metadata": {},
   "outputs": [],
   "source": [
    "# Betweenness Centrality\n",
    "bet = nx.betweenness_centrality(B)\n",
    "sorted(bet.items(), key=itemgetter(1), reverse=True)"
   ]
  },
  {
   "cell_type": "code",
   "execution_count": null,
   "metadata": {},
   "outputs": [],
   "source": [
    "# Closeness centrality\n",
    "clos = nx.closeness_centrality(B)\n",
    "sorted(clos.items(), key=itemgetter(1), reverse=True)"
   ]
  },
  {
   "cell_type": "code",
   "execution_count": null,
   "metadata": {},
   "outputs": [],
   "source": [
    "# Eigenvector centrality\n",
    "eig = nx.eigenvector_centrality(B)\n",
    "sorted(eig.items(), key=itemgetter(1), reverse=False)"
   ]
  },
  {
   "cell_type": "code",
   "execution_count": null,
   "metadata": {},
   "outputs": [],
   "source": [
    "# Build a pandas DataFrame with nodes as rows and centrality scores as columns\n",
    "centrality_measures = {\n",
    "    'degree': nx.degree_centrality(B),\n",
    "    'betweenness': nx.betweenness_centrality(B),\n",
    "    'closeness': nx.closeness_centrality(B),\n",
    "    'eigenvector': nx.eigenvector_centrality(B),\n",
    "}\n",
    "centrality = pd.DataFrame(centrality_measures)\n",
    "centrality\n"
   ]
  },
  {
   "cell_type": "code",
   "execution_count": null,
   "metadata": {},
   "outputs": [],
   "source": [
    "# Plot a pairplot of the centrality scores to see their correlation\n",
    "sns.pairplot(centrality)"
   ]
  },
  {
   "cell_type": "markdown",
   "metadata": {},
   "source": [
    "### Components, cliques, k-cores, and k-components\n",
    "\n",
    "A **subgraph** of $G$ is a graph whose nodes and edges are all in $G$. An **induced subgraph** $G[U]$ is a subgraph defined by a subset of nodes $U \\subseteq V(G)$ with all the edges in $G$ that link nodes in $U$. A subgraph is **maximal** in respect to some property if the addition of more nodes to the subgraph will cause the loss of that property.\n",
    "\n",
    "#### Connected components\n",
    "For undirected graphs, a **component** is a maximal connected subgraph, which means that there is at least one path between any two nodes in that subgraph.\n",
    "\n",
    "For directed graphs, a **weakly connected component** is a subgraph that is connected if we replace all of its directed edges with undirected edges. A **strongly connected component** is a subgraph where there is a path in each direction between each pair of nodes of the subgraph.\n",
    "\n",
    "You can check NetworkX documentation for the functions that deal with [components](http://networkx.readthedocs.io/en/latest/reference/algorithms.component.html).\n"
   ]
  },
  {
   "cell_type": "code",
   "execution_count": null,
   "metadata": {},
   "outputs": [],
   "source": [
    "G = nx.disjoint_union(nx.petersen_graph(), nx.tetrahedral_graph())\n",
    "nx.draw(G, with_labels=True)"
   ]
  },
  {
   "cell_type": "markdown",
   "metadata": {},
   "source": [
    "The function **nx.connected_components** yields sets of nodes that form the components of the graph. If you want the induced subgraphs of the components you have to use **nx.connected_component_subgraphs**"
   ]
  },
  {
   "cell_type": "code",
   "execution_count": null,
   "metadata": {},
   "outputs": [],
   "source": [
    "list(nx.connected_components(G))"
   ]
  },
  {
   "cell_type": "markdown",
   "metadata": {},
   "source": [
    "##### Quick execise\n",
    "How to select the largest connected component of a graph?"
   ]
  },
  {
   "cell_type": "code",
   "execution_count": null,
   "metadata": {},
   "outputs": [],
   "source": [
    "largest = max(nx.connected_components(G), key=len)\n",
    "len(largest)"
   ]
  },
  {
   "cell_type": "markdown",
   "metadata": {},
   "source": [
    "Returning to the florentine families marriage graph, we can analyze the importance of each family in maintaining the graph connected by removing each node, checking if the graph remains connected after the removal, and computing the percentage of nodes in the largest connected component if removing the node disconnects the graph:"
   ]
  },
  {
   "cell_type": "code",
   "execution_count": null,
   "metadata": {},
   "outputs": [],
   "source": [
    "G = nx.florentine_families_graph()"
   ]
  },
  {
   "cell_type": "code",
   "execution_count": null,
   "metadata": {},
   "outputs": [],
   "source": [
    "# The florentine families graph is connected, thus all nodes are in the same connected component.\n",
    "list(nx.connected_components(G))"
   ]
  },
  {
   "cell_type": "code",
   "execution_count": null,
   "metadata": {},
   "outputs": [],
   "source": [
    "for family in G:\n",
    "    H = G.copy()\n",
    "    H.remove_node(family)\n",
    "    if not nx.is_connected(H):\n",
    "        largest = max(nx.connected_components(H), key=len)\n",
    "        percent = len(largest) / len(G) * 100\n",
    "        print('{}: size of the largest connected component = {:.1f}%'.format(family, percent))"
   ]
  },
  {
   "cell_type": "markdown",
   "metadata": {},
   "source": [
    "For directed graphs we have to distinguish between weakly and strongly connected components:"
   ]
  },
  {
   "cell_type": "code",
   "execution_count": null,
   "metadata": {},
   "outputs": [],
   "source": [
    "D = nx.disjoint_union(\n",
    "    nx.tetrahedral_graph(create_using=nx.DiGraph()),\n",
    "    nx.tetrahedral_graph(create_using=nx.DiGraph())\n",
    ")\n",
    "D.add_edge(3, 6)\n",
    "nx.draw(D, with_labels=True)"
   ]
  },
  {
   "cell_type": "code",
   "execution_count": null,
   "metadata": {},
   "outputs": [],
   "source": [
    "list(nx.weakly_connected_components(D))"
   ]
  },
  {
   "cell_type": "code",
   "execution_count": null,
   "metadata": {},
   "outputs": [],
   "source": [
    "list(nx.strongly_connected_components(D))"
   ]
  },
  {
   "cell_type": "markdown",
   "metadata": {},
   "source": [
    "#### $k$-components\n",
    "\n",
    "* The removal of a node $v$ from $G$ results in a subgraph $G - v$ that does not contain $v$ nor any of its incident edges.\n",
    "\n",
    "* The **node connectivity** of a graph $G$ is denoted $\\kappa(G)$ and is defined as the minimum number of nodes that must be removed in order to disconnect the graph $G$. Those nodes that must be removed to disconnect $G$ form a **node cut-set**. If it is only necessary to remove one node to disconnect $G$, this node is called an **articulation point**.\n",
    "\n",
    "* We can also define the **local node connectivity** for two nodes $u$ and $v$, denoted $\\kappa_{G}(u,v)$, as the minimum number of nodes that must be removed in order to destroy all paths that join $u$ and $v$ in $G$. Then the **node connectivity** of $G$ is equal to $min{\\{\\kappa_{G}(u,v):u,v \\in V(G)\\}}$.\n",
    "\n",
    "* Similarly, the **edge connectivity** of a graph $G$ is denoted $\\lambda(G)$ and is defined as the minimum number of edges that must be removed in order to disconnect the graph $G$. The edges that must be removed to disconnect $G$ form an **edge cut-set**.\n",
    "\n",
    "* A **$k$-component** is a maximal subgraph of a graph $G$ that has, at least, node connectivity $k$: we need to remove at least $k$ nodes to break it into more components. Notice that $k$-components have an inherent hierarchical structure because they are nested in terms of connectivity: a connected graph can contain several 2-components, each of which can contain one or more tricomponents, and so forth. \n",
    "\n",
    "You can check NetworkX documentation for the functions that deal with [node and edge connectivity](http://networkx.readthedocs.io/en/latest/reference/algorithms.connectivity.html)."
   ]
  },
  {
   "cell_type": "markdown",
   "metadata": {},
   "source": [
    "In the previous section we have seen that only 4 nodes in the florentine families graph disconnect the network when removed. By the definitions above, these nodes are **articulation points** and we can complute them faster than removing all nodes, one by one, and see which of them actually disconnect the network."
   ]
  },
  {
   "cell_type": "code",
   "execution_count": null,
   "metadata": {},
   "outputs": [],
   "source": [
    "G = nx.florentine_families_graph()\n",
    "set(nx.articulation_points(G))"
   ]
  },
  {
   "cell_type": "markdown",
   "metadata": {},
   "source": [
    "When we remove the articulation points from a graph we obtain a set of subgraphs for which we need to remove 2 or more nodes to diconnect them. These are the 2-components or biconnected components. Note that, by convention, dyads are considered biconnected components."
   ]
  },
  {
   "cell_type": "code",
   "execution_count": null,
   "metadata": {},
   "outputs": [],
   "source": [
    "list(nx.biconnected_components(G))"
   ]
  },
  {
   "cell_type": "code",
   "execution_count": null,
   "metadata": {},
   "outputs": [],
   "source": [
    "# Obtain the largest biconnected component as a subgraph\n",
    "B = max(nx.biconnected_component_subgraphs(G), key=len)"
   ]
  },
  {
   "cell_type": "markdown",
   "metadata": {},
   "source": [
    "Biconnected components, or 2-components, have node connectivity 2 which means that we need to remove two nodes to disconnect them. You can compute the node connectiviy value of a graph using the function **nx.node_connectivity**"
   ]
  },
  {
   "cell_type": "code",
   "execution_count": null,
   "metadata": {},
   "outputs": [],
   "source": [
    "nx.node_connectivity(B)"
   ]
  },
  {
   "cell_type": "markdown",
   "metadata": {},
   "source": [
    "In order to compute which two nodes actually disconnect the biconnected component you can use the function **nx.minimum_node_cut** the output of this function is a node cut set, a set of nodes of minimum cardinality that if removed will disconnect the graph."
   ]
  },
  {
   "cell_type": "code",
   "execution_count": null,
   "metadata": {},
   "outputs": [],
   "source": [
    "cut_set= nx.minimum_node_cut(B)\n",
    "cut_set"
   ]
  },
  {
   "cell_type": "code",
   "execution_count": null,
   "metadata": {},
   "outputs": [],
   "source": [
    "B.remove_nodes_from(cut_set)\n",
    "nx.is_connected(B)"
   ]
  },
  {
   "cell_type": "markdown",
   "metadata": {},
   "source": [
    "In order to compute higher order components, that is, 3-components, 4-components, ... You can use the function **nx.k_components** which returns a dictionary with connectivity levels as keys an list of sets of nodes that form a k-components at each connectivity level.\n",
    "\n",
    "To illustrate this function we'll use the karate club graph because the florentine families graphs only have two levels of connectivity and the karate club graph has four."
   ]
  },
  {
   "cell_type": "code",
   "execution_count": null,
   "metadata": {},
   "outputs": [],
   "source": [
    "K = nx.karate_club_graph()\n",
    "nx.draw(K, with_labels=True)"
   ]
  },
  {
   "cell_type": "code",
   "execution_count": null,
   "metadata": {},
   "outputs": [],
   "source": [
    "k_components = nx.k_components(K)\n",
    "k_components"
   ]
  },
  {
   "cell_type": "code",
   "execution_count": null,
   "metadata": {},
   "outputs": [],
   "source": [
    "# Build the subgraph of nodes that form a 4-component\n",
    "K4 = K.subgraph(k_components[4][0])"
   ]
  },
  {
   "cell_type": "code",
   "execution_count": null,
   "metadata": {},
   "outputs": [],
   "source": [
    "nx.node_connectivity(K4)"
   ]
  },
  {
   "cell_type": "code",
   "execution_count": null,
   "metadata": {},
   "outputs": [],
   "source": [
    "cut_set = nx.minimum_node_cut(K4)\n",
    "cs=list(cut_set)"
   ]
  },
  {
   "cell_type": "code",
   "execution_count": null,
   "metadata": {},
   "outputs": [],
   "source": [
    "K.remove_nodes_from(cs)\n",
    "nx.is_connected(K4)"
   ]
  },
  {
   "cell_type": "markdown",
   "metadata": {},
   "source": [
    "#### Cliques\n",
    "A **complete graph** is a graph in which all possible edges are present, so its density is 1. A **clique** is an induced subgraph $G[U]$ formed by a subset of nodes $U \\subseteq V(G)$ if, and only if, the induced subgraph $G[U]$ is a complete graph. Thus, there is an edge that links each pair of nodes in a clique.\n",
    "\n",
    "By convention dyads are considered cliques but they are not very interesting so it's safe to filter them out."
   ]
  },
  {
   "cell_type": "code",
   "execution_count": null,
   "metadata": {},
   "outputs": [],
   "source": [
    "cliques = list(nx.find_cliques(K))\n",
    "[clique for clique in cliques if len(clique) > 2]"
   ]
  },
  {
   "cell_type": "code",
   "execution_count": null,
   "metadata": {},
   "outputs": [],
   "source": [
    "clique = K.subgraph([0, 1, 2, 3, 13])\n",
    "nx.density(clique)"
   ]
  },
  {
   "cell_type": "markdown",
   "metadata": {},
   "source": [
    "#### $k$-cores\n",
    "A $k$-core of $G$ is a maximal subgraph in which all nodes have degree greater or equal than $k$; which means that a $k$-core is a maximal subgraph with the property $\\delta \\ge k$. The **core number** of a node is the largest value $k$ of a $k$-core containing that node."
   ]
  },
  {
   "cell_type": "code",
   "execution_count": null,
   "metadata": {},
   "outputs": [],
   "source": [
    "nx.core_number(K)"
   ]
  },
  {
   "cell_type": "markdown",
   "metadata": {},
   "source": [
    "We can obtain the subgraph that forms a k-core using the function **nx.kcore**"
   ]
  },
  {
   "cell_type": "code",
   "execution_count": null,
   "metadata": {},
   "outputs": [],
   "source": [
    "C3 = nx.k_core(K, 3)"
   ]
  },
  {
   "cell_type": "code",
   "execution_count": null,
   "metadata": {},
   "outputs": [],
   "source": [
    "nx.draw(C3, with_labels=True)"
   ]
  },
  {
   "cell_type": "markdown",
   "metadata": {},
   "source": [
    "Note that k-cores, even though all nodes have degree at least k, do not have the connectivity properties of k-components. In this example the 3-core can be disconnected by removing only one node: 0."
   ]
  },
  {
   "cell_type": "code",
   "execution_count": null,
   "metadata": {},
   "outputs": [],
   "source": [
    "nx.node_connectivity(C3)"
   ]
  },
  {
   "cell_type": "markdown",
   "metadata": {},
   "source": [
    "If we look at the k-components that we computed before we can see that in this 3-core there are actually two distinct 3-components:"
   ]
  },
  {
   "cell_type": "code",
   "execution_count": null,
   "metadata": {},
   "outputs": [],
   "source": [
    "k_components[3]"
   ]
  },
  {
   "cell_type": "markdown",
   "metadata": {},
   "source": [
    "### Exercise: Analyze the karate club graph\n",
    "\n",
    "The Karate Club graph we used in the previous exercises is a well-known social network of a university karate club described in \"An Information Flow Model for Conflict and Fission in Small Groups\" paper by Wayne W. Zachary. See [wikipedia](https://en.wikipedia.org/wiki/Zachary%27s_karate_club) for more information.\n",
    "\n",
    "The club suffered a split during Zachary's field work which resulted in two new karate clubs, one managed by the instructor named 'Mr Hi' (node 0) and the other by the administrator named 'the Officer' (node 33).\n",
    "\n",
    "Analyze the centrality metrics of nodes in this graph and see which position have both the instructor and the administrator.\n",
    "\n",
    "In this graph nodes have a node attribute named 'club' with values 'Mr. Hi' or 'Officer' to indicate to which club each member went after the split. Plot the graph using different colors for nodes with different values of the node attribute 'club'."
   ]
  },
  {
   "cell_type": "code",
   "execution_count": null,
   "metadata": {},
   "outputs": [],
   "source": [
    "K = nx.karate_club_graph()"
   ]
  },
  {
   "cell_type": "code",
   "execution_count": null,
   "metadata": {},
   "outputs": [],
   "source": [
    "degc = nx.degree_centrality(K)\n",
    "bet = nx.betweenness_centrality(K)\n",
    "clos = nx.closeness_centrality(K)\n",
    "eig = nx.eigenvector_centrality(K)"
   ]
  },
  {
   "cell_type": "code",
   "execution_count": null,
   "metadata": {},
   "outputs": [],
   "source": [
    "sorted(bet.items(), key=itemgetter(1), reverse=True)"
   ]
  },
  {
   "cell_type": "markdown",
   "metadata": {},
   "source": [
    "Note that the instructor (node 0) and the administrator (node 33) are at the top of all centrality measures with very close scores."
   ]
  },
  {
   "cell_type": "code",
   "execution_count": null,
   "metadata": {},
   "outputs": [],
   "source": [
    "def plot_karate_club_graph():\n",
    "    K = nx.karate_club_graph()\n",
    "    nodes_instructor = {n for n, d in K.nodes(data=True) if d['club']=='Mr. Hi'}\n",
    "    nodes_admin = set(K) - nodes_instructor\n",
    "    pos = nx.fruchterman_reingold_layout(K)\n",
    "    #plot edges\n",
    "    nx.draw_networkx_edges(K, pos)\n",
    "    #plot nodes\n",
    "    nx.draw_networkx_nodes(K, pos, nodelist=nodes_instructor, node_size=400, node_color='green')\n",
    "    nx.draw_networkx_nodes(K, pos, nodelist=nodes_admin, node_size=400, node_color='red')\n",
    "    # plot labels\n",
    "    nx.draw_networkx_labels(G, pos=pos, labels={n: n for n in K})\n",
    "    # remove axes and grid\n",
    "    ax = plt.gca()\n",
    "    ax.set_axis_off()\n",
    "    ax.grid(None)"
   ]
  },
  {
   "cell_type": "code",
   "execution_count": null,
   "metadata": {},
   "outputs": [],
   "source": [
    "plot_karate_club_graph()"
   ]
  }
 ],
 "metadata": {
  "kernelspec": {
   "display_name": "Python 3",
   "language": "python",
   "name": "python3"
  },
  "language_info": {
   "codemirror_mode": {
    "name": "ipython",
    "version": 3
   },
   "file_extension": ".py",
   "mimetype": "text/x-python",
   "name": "python",
   "nbconvert_exporter": "python",
   "pygments_lexer": "ipython3",
   "version": "3.7.4"
  }
 },
 "nbformat": 4,
 "nbformat_minor": 4
}
